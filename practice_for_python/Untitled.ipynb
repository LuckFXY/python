{
 "cells": [
  {
   "cell_type": "code",
   "execution_count": 42,
   "metadata": {},
   "outputs": [
    {
     "name": "stdout",
     "output_type": "stream",
     "text": [
      "[{'v': 'a', 'key': 5}, {'v': 'b', 'key': 4}, {'v': 'c', 'key': 3}, {'v': 'd', 'key': 2}, {'v': 'e', 'key': 1}]\n"
     ]
    }
   ],
   "source": [
    "a=[\n",
    "    dict(\n",
    "     v = 'a',\n",
    "    key = 5\n",
    "),\n",
    "    dict(\n",
    "    v = 'b',\n",
    "    key = 4\n",
    "),\n",
    "    dict(\n",
    "    v = 'c',\n",
    "    key = 3\n",
    "),\n",
    "    dict(\n",
    "    v = 'd',\n",
    "    key = 2\n",
    "),\n",
    "    dict(\n",
    "    v = 'e',\n",
    "    key = 1\n",
    "),\n",
    "]\n",
    "print(a)"
   ]
  },
  {
   "cell_type": "code",
   "execution_count": 5,
   "metadata": {},
   "outputs": [
    {
     "data": {
      "text/plain": [
       "[{'key': 1, 'v': 'e'},\n",
       " {'key': 2, 'v': 'd'},\n",
       " {'key': 3, 'v': 'c'},\n",
       " {'key': 4, 'v': 'b'},\n",
       " {'key': 5, 'v': 'a'}]"
      ]
     },
     "execution_count": 5,
     "metadata": {},
     "output_type": "execute_result"
    }
   ],
   "source": [
    "sorted(a, key=lambda k : k['key'])"
   ]
  },
  {
   "cell_type": "code",
   "execution_count": 9,
   "metadata": {},
   "outputs": [
    {
     "name": "stdout",
     "output_type": "stream",
     "text": [
      "v\n",
      "key\n",
      "{'v': 'a', 'key': 7}\n"
     ]
    }
   ],
   "source": [
    "for k, v in a[0].items():\n",
    "    print(k)\n",
    "    if k == 'key':\n",
    "        a[0][k] += 1\n",
    "print(a[0])"
   ]
  },
  {
   "cell_type": "code",
   "execution_count": 11,
   "metadata": {},
   "outputs": [],
   "source": [
    "import pandas as pd"
   ]
  },
  {
   "cell_type": "code",
   "execution_count": 12,
   "metadata": {},
   "outputs": [],
   "source": [
    "fpath =r'F:\\GitHub\\auto_stock\\mission.xls'"
   ]
  },
  {
   "cell_type": "code",
   "execution_count": 14,
   "metadata": {},
   "outputs": [
    {
     "name": "stdout",
     "output_type": "stream",
     "text": [
      "     code  buy_price  buy_quantity  sell_price  sell_quantity  flag\n",
      "0  159934       2.70            99        2.75             99     0\n",
      "1  159934       2.65            99        2.70             99     0\n",
      "2  159934       2.60            99        2.65             99     0\n",
      "3  159934       2.55            99        2.60             99     0\n",
      "4  159934       2.50            99        2.55             99     0\n",
      "5  159934       2.45            99        2.50             99     0\n",
      "[{'code': 159934.0, 'buy_price': 2.7, 'buy_quantity': 99.0, 'sell_price': 2.75, 'sell_quantity': 99.0, 'flag': 0.0}, {'code': 159934.0, 'buy_price': 2.65, 'buy_quantity': 99.0, 'sell_price': 2.7, 'sell_quantity': 99.0, 'flag': 0.0}, {'code': 159934.0, 'buy_price': 2.6, 'buy_quantity': 99.0, 'sell_price': 2.65, 'sell_quantity': 99.0, 'flag': 0.0}, {'code': 159934.0, 'buy_price': 2.55, 'buy_quantity': 99.0, 'sell_price': 2.6, 'sell_quantity': 99.0, 'flag': 0.0}, {'code': 159934.0, 'buy_price': 2.5, 'buy_quantity': 99.0, 'sell_price': 2.55, 'sell_quantity': 99.0, 'flag': 0.0}, {'code': 159934.0, 'buy_price': 2.45, 'buy_quantity': 99.0, 'sell_price': 2.5, 'sell_quantity': 99.0, 'flag': 0.0}]\n"
     ]
    }
   ],
   "source": [
    "df = pd.read_excel(fpath)\n",
    "mlist = df.to_dict(orient='record')\n",
    "print(df)\n",
    "print(mlist)"
   ]
  },
  {
   "cell_type": "code",
   "execution_count": 31,
   "metadata": {},
   "outputs": [
    {
     "data": {
      "text/plain": [
       "code             159934.00\n",
       "buy_price             2.60\n",
       "buy_quantity         99.00\n",
       "sell_price            2.65\n",
       "sell_quantity        99.00\n",
       "flag                  0.00\n",
       "Name: 2, dtype: float64"
      ]
     },
     "execution_count": 31,
     "metadata": {},
     "output_type": "execute_result"
    }
   ],
   "source": [
    "df.iloc[2]"
   ]
  },
  {
   "cell_type": "code",
   "execution_count": 33,
   "metadata": {},
   "outputs": [],
   "source": [
    "df.loc[2,'code'] = 1"
   ]
  },
  {
   "cell_type": "code",
   "execution_count": 34,
   "metadata": {},
   "outputs": [
    {
     "name": "stdout",
     "output_type": "stream",
     "text": [
      "     code  buy_price  buy_quantity  sell_price  sell_quantity  flag\n",
      "0  159934       2.70            99        2.75             99     0\n",
      "1  159934       2.65            99        2.70             99     0\n",
      "2       1       2.60            99        2.65             99     0\n",
      "3  159934       2.55            99        2.60             99     0\n",
      "4  159934       2.50            99        2.55             99     0\n",
      "5  159934       2.45            99        2.50             99     0\n"
     ]
    }
   ],
   "source": [
    "print(df)"
   ]
  },
  {
   "cell_type": "code",
   "execution_count": 35,
   "metadata": {},
   "outputs": [
    {
     "data": {
      "text/plain": [
       "[{'key': 7, 'v': 'a'},\n",
       " {'key': 4, 'v': 'b'},\n",
       " {'key': 3, 'v': 'c'},\n",
       " {'key': 2, 'v': 'd'},\n",
       " {'key': 1, 'v': 'e'}]"
      ]
     },
     "execution_count": 35,
     "metadata": {},
     "output_type": "execute_result"
    }
   ],
   "source": [
    "a"
   ]
  },
  {
   "cell_type": "code",
   "execution_count": 43,
   "metadata": {},
   "outputs": [
    {
     "data": {
      "text/plain": [
       "{'key': 1, 'v': 'e'}"
      ]
     },
     "execution_count": 43,
     "metadata": {},
     "output_type": "execute_result"
    }
   ],
   "source": [
    "a.pop(4)"
   ]
  },
  {
   "cell_type": "code",
   "execution_count": 44,
   "metadata": {},
   "outputs": [
    {
     "data": {
      "text/plain": [
       "[{'key': 5, 'v': 'a'},\n",
       " {'key': 4, 'v': 'b'},\n",
       " {'key': 3, 'v': 'c'},\n",
       " {'key': 2, 'v': 'd'}]"
      ]
     },
     "execution_count": 44,
     "metadata": {},
     "output_type": "execute_result"
    }
   ],
   "source": [
    "a"
   ]
  },
  {
   "cell_type": "code",
   "execution_count": null,
   "metadata": {},
   "outputs": [],
   "source": []
  }
 ],
 "metadata": {
  "kernelspec": {
   "display_name": "Python 3",
   "language": "python",
   "name": "python3"
  },
  "language_info": {
   "codemirror_mode": {
    "name": "ipython",
    "version": 3
   },
   "file_extension": ".py",
   "mimetype": "text/x-python",
   "name": "python",
   "nbconvert_exporter": "python",
   "pygments_lexer": "ipython3",
   "version": "3.6.4"
  }
 },
 "nbformat": 4,
 "nbformat_minor": 2
}
