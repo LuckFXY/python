{
 "cells": [
  {
   "cell_type": "code",
   "execution_count": 14,
   "metadata": {
    "scrolled": false
   },
   "outputs": [
    {
     "name": "stdout",
     "output_type": "stream",
     "text": [
      "answer:\n",
      " -> 3 * 6 -> 18 + 5 -> 23 + 1\n",
      " -> 3 * 6 -> 18 + 1 -> 19 + 5\n"
     ]
    }
   ],
   "source": [
    "def calc(ops, a, b):\n",
    "    c = None\n",
    "    if(ops == '+'):\n",
    "        c = a + b\n",
    "    elif(ops == '-'):\n",
    "        c = a - b\n",
    "    elif(ops == '*'):\n",
    "        c = a * b\n",
    "    elif(ops == '/' and b != 0):\n",
    "        c = a / b\n",
    "    else:\n",
    "        print(\"ValueError : ops = {}, a= {}, b = {}\".format(ops, a, b) )\n",
    "    return c\n",
    "\n",
    "def getKey(ops, a,b):\n",
    "    '''\n",
    "    It's can work only when variable a and b are small num( < 53)\n",
    "    '''\n",
    "    s = '+-*/'\n",
    "    o = s.find(ops)\n",
    "    if(o == -1):\n",
    "        print(\"KeyError ops must in {+-*/}\")\n",
    "        return None\n",
    "    \n",
    "    key = 0\n",
    "    if(a<0):\n",
    "        a -= a\n",
    "        key |= 1\n",
    "    if(b<0):\n",
    "        b -= b\n",
    "        key |= 2\n",
    "    \n",
    "    key |= 1 << (a+6)\n",
    "    key |= 1 << (b+6)\n",
    "    key |= 1 << (o+2)\n",
    "    return key\n",
    "\n",
    "POINT = 24\n",
    "def getSoulation(candidate, ret, record):\n",
    "    cnt = 0\n",
    "    close = set()\n",
    "    \n",
    "    while candidate:\n",
    "        c_list =  candidate.popitem()\n",
    "        last_ans = c_list[0]\n",
    "        if(last_ans == POINT and len(c_list[1][0][2])==1):\n",
    "            ret += c_list[1]\n",
    "        for cur in c_list[1]:\n",
    "            parent_ops_str_key, parent_ops_str, parent_open_list, parent_key = cur\n",
    "            \n",
    "            N = len(parent_open_list)\n",
    "\n",
    "            for i in range(N):\n",
    "                for j in range(i+1, N):\n",
    "                    for ops in '+-*/':\n",
    "                        a, b = parent_open_list[i], parent_open_list[j]\n",
    "                        ops_str = parent_ops_str + \" -> {} {} {}\".format(a, ops, b)\n",
    "                        ops_str_key = getKey(ops, a,b)\n",
    "                        if ops_str_key in close:\n",
    "                            continue\n",
    "                        close.add(ops_str_key)    \n",
    "                        \n",
    "                        ans = calc(ops, a, b)\n",
    "                        if not ans:\n",
    "                            #print(\"ValueError: divided by zero !\")\n",
    "                            continue\n",
    "                        if ans != int(ans):\n",
    "                            continue\n",
    "                        ans = int(ans)\n",
    "                        sub_open = parent_open_list.copy()\n",
    "                        sub_open.insert(0, ans)\n",
    "                        sub_open.remove(a)\n",
    "                        sub_open.remove(b)\n",
    "                        \n",
    "                        if ans not in candidate:\n",
    "                            candidate[ans] = list()\n",
    "                        \n",
    "                        info = [ops_str_key, ops_str, sub_open, parent_ops_str_key]\n",
    "                        candidate[ans].append(info)\n",
    "                        \n",
    "                        if ans not in record:\n",
    "                            record[ans] = list()\n",
    "                        record[ans].append(info)\n",
    "                        cnt += 1\n",
    "                        if(cnt == 100):\n",
    "                            return\n",
    "                \n",
    "    \n",
    "def game24(open_list = [5,7,3,2], show_record = False):     \n",
    "    ret = []\n",
    "    record = {}\n",
    "    # ans : [ops_str, ops_key, open_list, parent_ops_key]                         \n",
    "    candidate = {None : [ [None, '', open_list, None] ]}       \n",
    "\n",
    "    getSoulation(candidate, ret, record) \n",
    "\n",
    "    def show_info(record):\n",
    "        for k , val, in record.items():\n",
    "            print(\"ans = {}\".format(k))\n",
    "            for v in val:\n",
    "                print(v)\n",
    "                \n",
    "    if(show_record):\n",
    "        show_info(record) \n",
    "\n",
    "    print(\"answer:\")\n",
    "    if ret:\n",
    "        for r in ret:\n",
    "            print(r[1])\n",
    "    else:\n",
    "        print(\"No anser\")\n",
    "        \n",
    "game24([1,3,5,6])"
   ]
  },
  {
   "cell_type": "code",
   "execution_count": 1,
   "metadata": {},
   "outputs": [
    {
     "name": "stdout",
     "output_type": "stream",
     "text": [
      "{1: 1, 2: 2}\n"
     ]
    }
   ],
   "source": []
  },
  {
   "cell_type": "code",
   "execution_count": 3,
   "metadata": {},
   "outputs": [
    {
     "name": "stdout",
     "output_type": "stream",
     "text": [
      "(1, 1)\n"
     ]
    }
   ],
   "source": []
  },
  {
   "cell_type": "code",
   "execution_count": 28,
   "metadata": {},
   "outputs": [
    {
     "data": {
      "text/plain": [
       "1"
      ]
     },
     "execution_count": 28,
     "metadata": {},
     "output_type": "execute_result"
    }
   ],
   "source": [
    "\n",
    "s.find('-')"
   ]
  },
  {
   "cell_type": "code",
   "execution_count": 24,
   "metadata": {},
   "outputs": [
    {
     "data": {
      "text/plain": [
       "3789707539986979549"
      ]
     },
     "execution_count": 24,
     "metadata": {},
     "output_type": "execute_result"
    }
   ],
   "source": []
  },
  {
   "cell_type": "code",
   "execution_count": null,
   "metadata": {},
   "outputs": [],
   "source": []
  }
 ],
 "metadata": {
  "kernelspec": {
   "display_name": "Python 3",
   "language": "python",
   "name": "python3"
  },
  "language_info": {
   "codemirror_mode": {
    "name": "ipython",
    "version": 3
   },
   "file_extension": ".py",
   "mimetype": "text/x-python",
   "name": "python",
   "nbconvert_exporter": "python",
   "pygments_lexer": "ipython3",
   "version": "3.6.4"
  }
 },
 "nbformat": 4,
 "nbformat_minor": 2
}
