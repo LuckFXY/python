{
 "cells": [
  {
   "cell_type": "markdown",
   "metadata": {},
   "source": [
    "0. 如何用简单例子讲解 Q - learning 的具体过程？\n",
    "  https://www.zhihu.com/question/26408259\n",
    "1. A Painless Q-learning Tutorial (一个 Q-learning 算法的简明教程)\n",
    "  https://blog.csdn.net/itplus/article/details/9361915\n",
    "2. 强化学习之Q-learning简介\n",
    "  https://blog.csdn.net/Young_Gy/article/details/73485518\n",
    "3. Simple Reinforcement Learning with Tensorflow Part 0: Q-Learning with Tables and Neural Networks\n",
    "  https://medium.com/emergent-future/simple-reinforcement-learning-with-tensorflow-part-0-q-learning-with-tables-and-neural-networks-d195264329d0"
   ]
  },
  {
   "cell_type": "code",
   "execution_count": 1,
   "metadata": {},
   "outputs": [],
   "source": [
    "import numpy as np\n",
    "import matplotlib.pyplot as plt"
   ]
  },
  {
   "cell_type": "code",
   "execution_count": null,
   "metadata": {},
   "outputs": [],
   "source": [
    "gamma = 0.7\n",
    "#每一格子的奖励\n",
    "reward = np.array([\n",
    "    [0, -10, 0, -1, -1],\n",
    "    [0, 10, -1, 0, -1],\n",
    "    [-1, 0, 0, 10, -1],\n",
    "    [-1, 0, -10, 0, 10]\n",
    "])\n",
    "#智能体\n",
    "q_matrix = np.zeros((4,5))\n",
    "#转移矩阵，可以if up : i -= 1代替\n",
    "transition_matrix = np.array([\n",
    "    []\n",
    "])"
   ]
  }
 ],
 "metadata": {
  "kernelspec": {
   "display_name": "Python 3",
   "language": "python",
   "name": "python3"
  },
  "language_info": {
   "codemirror_mode": {
    "name": "ipython",
    "version": 3
   },
   "file_extension": ".py",
   "mimetype": "text/x-python",
   "name": "python",
   "nbconvert_exporter": "python",
   "pygments_lexer": "ipython3",
   "version": "3.6.4"
  }
 },
 "nbformat": 4,
 "nbformat_minor": 2
}
