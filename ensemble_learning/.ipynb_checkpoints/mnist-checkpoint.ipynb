{
 "cells": [
  {
   "cell_type": "code",
   "execution_count": 1,
   "metadata": {},
   "outputs": [],
   "source": [
    "import prettytensor as pt"
   ]
  },
  {
   "cell_type": "code",
   "execution_count": 2,
   "metadata": {},
   "outputs": [
    {
     "name": "stdout",
     "output_type": "stream",
     "text": [
      "Extracting data/MNIST/train-images-idx3-ubyte.gz\n",
      "Extracting data/MNIST/train-labels-idx1-ubyte.gz\n",
      "Extracting data/MNIST/t10k-images-idx3-ubyte.gz\n",
      "Extracting data/MNIST/t10k-labels-idx1-ubyte.gz\n"
     ]
    }
   ],
   "source": [
    "from tensorflow.examples.tutorials.mnist import input_data\n",
    "data = input_data.read_data_sets('data/MNIST/', one_hot=True)"
   ]
  },
  {
   "cell_type": "code",
   "execution_count": 3,
   "metadata": {},
   "outputs": [
    {
     "name": "stdout",
     "output_type": "stream",
     "text": [
      "Size of:\n",
      "- Training-set:\t\t55000\n",
      "- Test-set:\t\t10000\n",
      "- Validation-set:\t5000\n"
     ]
    }
   ],
   "source": [
    "print(\"Size of:\")\n",
    "print(\"- Training-set:\\t\\t{}\".format(len(data.train.labels)))\n",
    "print(\"- Test-set:\\t\\t{}\".format(len(data.test.labels)))\n",
    "print(\"- Validation-set:\\t{}\".format(len(data.validation.labels)))"
   ]
  },
  {
   "cell_type": "code",
   "execution_count": 4,
   "metadata": {},
   "outputs": [],
   "source": [
    "%matplotlib inline\n",
    "import matplotlib.pyplot as plt\n",
    "import tensorflow as tf\n",
    "import numpy as np\n",
    "from sklearn.metrics import confusion_matrix\n",
    "import time\n",
    "from datetime import timedelta\n",
    "import math\n",
    "import os"
   ]
  },
  {
   "cell_type": "code",
   "execution_count": 5,
   "metadata": {},
   "outputs": [],
   "source": [
    "data.test.cls = np.argmax(data.test.labels, axis=1)\n",
    "data.validation.cls = np.argmax(data.validation.labels, axis=1)"
   ]
  },
  {
   "cell_type": "code",
   "execution_count": 6,
   "metadata": {},
   "outputs": [],
   "source": [
    "combined_images = np.concatenate([data.train.images, data.validation.images], axis=0)\n",
    "combined_labels = np.concatenate([data.train.labels, data.validation.labels], axis=0)"
   ]
  },
  {
   "cell_type": "code",
   "execution_count": 7,
   "metadata": {},
   "outputs": [
    {
     "name": "stdout",
     "output_type": "stream",
     "text": [
      "60000\n"
     ]
    }
   ],
   "source": [
    "combined_size = len(combined_images)\n",
    "print(combined_size)"
   ]
  },
  {
   "cell_type": "code",
   "execution_count": 8,
   "metadata": {},
   "outputs": [
    {
     "name": "stdout",
     "output_type": "stream",
     "text": [
      "12000\n"
     ]
    }
   ],
   "source": [
    "train_size = int(combined_size * 0.8)\n",
    "validation_size = combined_size - train_size\n",
    "print(validation_size)"
   ]
  },
  {
   "cell_type": "code",
   "execution_count": 9,
   "metadata": {},
   "outputs": [],
   "source": [
    "def random_training_set(combined_images, combined_labels, rate=0.8):\n",
    "    combined_size = len(combined_images)\n",
    "    idx = np.random.permutation(combined_size)\n",
    "    \n",
    "    train_size = int(combined_size * rate)\n",
    "    idx_train = idx[0:train_size]\n",
    "    idx_validation = idx[train_size:]\n",
    "    \n",
    "    x_train = combined_images[idx_train, :]\n",
    "    y_train = combined_labels[idx_train, :]\n",
    "    \n",
    "    x_validation = combined_images[idx_validation, :]\n",
    "    y_validation = combined_images[idx_validation, :]\n",
    "    \n",
    "    return x_train, y_train, x_validation, y_validation"
   ]
  },
  {
   "cell_type": "code",
   "execution_count": null,
   "metadata": {},
   "outputs": [],
   "source": [
    "def random_training_set"
   ]
  },
  {
   "cell_type": "code",
   "execution_count": 10,
   "metadata": {},
   "outputs": [],
   "source": [
    "img_size = 28\n",
    "\n",
    "# Images are stored in one-dimensional arrays of this length.\n",
    "img_size_flat = img_size * img_size\n",
    "\n",
    "# Tuple with height and width of images used to reshape arrays.\n",
    "img_shape = (img_size, img_size)\n",
    "\n",
    "# Number of colour channels for the images: 1 channel for gray-scale.\n",
    "num_channels = 1\n",
    "\n",
    "# Number of classes, one class for each of 10 digits.\n",
    "num_classes = 10"
   ]
  },
  {
   "cell_type": "code",
   "execution_count": 11,
   "metadata": {},
   "outputs": [],
   "source": [
    "def plot_images(images,\n",
    "                cls_true,\n",
    "                ensemble_cls_pred = None,\n",
    "                best_cls_pred = None\n",
    "               ):\n",
    "    assert len(images) == len(cls_true)\n",
    "    \n",
    "    fig, axes = plt.subplots(3, 3)\n",
    "    \n",
    "    if ensemble_cls_pred is None:\n",
    "        hspace = 0.3\n",
    "    else:\n",
    "        hspace = 1.0\n",
    "    fig.subplots_adjust(hspace = hspace, wspace=0.3)    \n",
    "    \n",
    "    for i, ax in enumerate(axes.flat):\n",
    "        if i < len(images):\n",
    "            ax.imshow(images[i].reshape(img_shape), cmap='binary')\n",
    "            \n",
    "            if ensemble_cls_pred is None:\n",
    "                xlabel = \"True: {0}\".format(cls_true[i])\n",
    "                \n",
    "            else:\n",
    "                msg = \"True: {0}\\nEnsemble: {1}\\nBest Net: {2}\"\n",
    "                xlabel = msg.format(cls_true[i],\n",
    "                                    ensemble_cls_pred[i],\n",
    "                                    best_cls_pred[i]\n",
    "                                   )\n",
    "            ax.set_xlabel(xlabel)\n",
    "            \n",
    "        ax.set_xticks([])\n",
    "        ax.set_yticks([])\n",
    "        \n",
    "    plt.show()"
   ]
  },
  {
   "cell_type": "code",
   "execution_count": 12,
   "metadata": {},
   "outputs": [
    {
     "data": {
      "image/png": "[encoded data removed]",
      "text/plain": [
       "<matplotlib.figure.Figure at 0x1780ec88>"
      ]
     },
     "metadata": {},
     "output_type": "display_data"
    }
   ],
   "source": [
    "images = data.test.images[0:9]\n",
    "cls_true = data.test.cls[0:9]\n",
    "plot_images(images = images, cls_true=cls_true)"
   ]
  },
  {
   "cell_type": "code",
   "execution_count": 13,
   "metadata": {},
   "outputs": [],
   "source": [
    "x = tf.placeholder(tf.float32, shape=[None, img_size_flat], name='x')"
   ]
  },
  {
   "cell_type": "code",
   "execution_count": 14,
   "metadata": {},
   "outputs": [],
   "source": [
    "x_image = tf.reshape(x, [-1, img_size, img_size, num_channels])"
   ]
  },
  {
   "cell_type": "code",
   "execution_count": 15,
   "metadata": {},
   "outputs": [],
   "source": [
    "y_true = tf.placeholder(tf.float32, shape=[None, 10], name='y_true')"
   ]
  },
  {
   "cell_type": "code",
   "execution_count": 16,
   "metadata": {},
   "outputs": [],
   "source": [
    "y_true_cls = tf.argmax(y_true, axis=1)"
   ]
  },
  {
   "cell_type": "code",
   "execution_count": 17,
   "metadata": {},
   "outputs": [],
   "source": [
    "x_pretty = pt.wrap(x_image)"
   ]
  },
  {
   "cell_type": "code",
   "execution_count": 58,
   "metadata": {},
   "outputs": [],
   "source": [
    "with pt.defaults_scope(activation_fn=tf.nn.relu):\n",
    "    y_pred, loss = x_pretty.\\\n",
    "    conv2d(kernel=5, depth=16, name='conv1').\\\n",
    "    max_pool(kernel=2, stride=2).\\\n",
    "    conv2d(kernel=5, depth=36, name='conv2').\\\n",
    "    max_pool(kernel=2, stride=2).\\\n",
    "    flatten().\\\n",
    "    fully_connected(size=128, name='fc1').\\\n",
    "    softmax_classifier(num_classes=num_classes, labels=y_true)"
   ]
  },
  {
   "cell_type": "code",
   "execution_count": 59,
   "metadata": {},
   "outputs": [],
   "source": [
    "optimizer = tf.train.AdamOptimizer(learning_rate=1e-4).minimize(loss)"
   ]
  },
  {
   "cell_type": "code",
   "execution_count": 60,
   "metadata": {},
   "outputs": [],
   "source": [
    "y_pred_cls = tf.argmax(y_pred, dimension=1)"
   ]
  },
  {
   "cell_type": "code",
   "execution_count": 61,
   "metadata": {},
   "outputs": [],
   "source": [
    "correct_prediction = tf.equal(y_pred_cls, y_true_cls)\n",
    "accuracy = tf.reduce_mean(tf.cast(correct_prediction, tf.float32))"
   ]
  },
  {
   "cell_type": "code",
   "execution_count": 62,
   "metadata": {},
   "outputs": [],
   "source": [
    "saver = tf.train.Saver(max_to_keep=100)\n",
    "save_dir = 'checkpoints/'\n",
    "if not os.path.exists(save_dir):\n",
    "    os.makedirs(save_dir)"
   ]
  },
  {
   "cell_type": "code",
   "execution_count": 63,
   "metadata": {},
   "outputs": [],
   "source": [
    "def get_save_path(net_number):\n",
    "    return save_dir + 'network' + str(net_number)"
   ]
  },
  {
   "cell_type": "code",
   "execution_count": 64,
   "metadata": {},
   "outputs": [],
   "source": [
    "session = tf.Session()"
   ]
  },
  {
   "cell_type": "code",
   "execution_count": 65,
   "metadata": {},
   "outputs": [],
   "source": [
    "def init_variables():\n",
    "    session.run(tf.initialize_all_variables())"
   ]
  },
  {
   "cell_type": "code",
   "execution_count": 66,
   "metadata": {},
   "outputs": [],
   "source": [
    "train_batch_size = 64"
   ]
  },
  {
   "cell_type": "code",
   "execution_count": 69,
   "metadata": {},
   "outputs": [],
   "source": [
    "num_networks = 16\n",
    "num_iterations = 3600"
   ]
  },
  {
   "cell_type": "code",
   "execution_count": 105,
   "metadata": {},
   "outputs": [],
   "source": [
    "def random_batch(x_train, y_train, net_id):\n",
    "    # Total number of images in the training-set.\n",
    "    \n",
    "    block_size = int(len(x_train) * net_id / num_networks)\n",
    "    \n",
    "    smaple_idx = np.arange(net_id * block_size, (net_id+1) * block_size)\n",
    "    num_images = len(smaple_idx)\n",
    "    \n",
    "    print(smaple_idx)\n",
    "    \n",
    "    # Create a random index into the training-set.\n",
    "    idx = np.random.choice(smaple_idx,\n",
    "                           size=train_batch_size,\n",
    "                           replace=False)\n",
    "\n",
    "    # Use the random index to select random images and labels.\n",
    "    x_batch = x_train[idx, :]  # Images.\n",
    "    y_batch = y_train[idx, :]  # Labels.\n",
    "\n",
    "    # Return the batch.\n",
    "    return x_batch, y_batch"
   ]
  },
  {
   "cell_type": "code",
   "execution_count": 106,
   "metadata": {},
   "outputs": [
    {
     "name": "stdout",
     "output_type": "stream",
     "text": [
      "[3000 3001 3002 ... 5997 5998 5999]\n",
      "(64, 784)\n",
      "(64, 10)\n"
     ]
    }
   ],
   "source": [
    "x,y = random_batch(x_train, y_train, net_id=1)\n",
    "print(x.shape)\n",
    "print(y.shape)"
   ]
  },
  {
   "cell_type": "code",
   "execution_count": 68,
   "metadata": {},
   "outputs": [],
   "source": [
    "\n",
    "def optimize(num_iterations, x_train, y_train, net_id):\n",
    "    # Start-time used for printing time-usage below.\n",
    "    start_time = time.time()\n",
    "\n",
    "    for i in range(num_iterations):\n",
    "\n",
    "        # Get a batch of training examples.\n",
    "        # x_batch now holds a batch of images and\n",
    "        # y_true_batch are the true labels for those images.\n",
    "        x_batch, y_true_batch = random_batch(x_train, y_train, net_id)\n",
    "\n",
    "        # Put the batch into a dict with the proper names\n",
    "        # for placeholder variables in the TensorFlow graph.\n",
    "        feed_dict_train = {x: x_batch,\n",
    "                           y_true: y_true_batch}\n",
    "\n",
    "        # Run the optimizer using this batch of training data.\n",
    "        # TensorFlow assigns the variables in feed_dict_train\n",
    "        # to the placeholder variables and then runs the optimizer.\n",
    "        session.run(optimizer, feed_dict=feed_dict_train)\n",
    "\n",
    "        # Print status every 100 iterations and after last iteration.\n",
    "        if i % 100 == 0:\n",
    "\n",
    "            # Calculate the accuracy on the training-batch.\n",
    "            acc = session.run(accuracy, feed_dict=feed_dict_train)\n",
    "            \n",
    "            # Status-message for printing.\n",
    "            msg = \"Optimization Iteration: {0:>6}, Training Batch Accuracy: {1:>6.1%}\"\n",
    "\n",
    "            # Print it.\n",
    "            print(msg.format(i + 1, acc))\n",
    "\n",
    "    # Ending time.\n",
    "    end_time = time.time()\n",
    "\n",
    "    # Difference between start and end-times.\n",
    "    time_dif = end_time - start_time\n",
    "\n",
    "    # Print the time-usage.\n",
    "    print(\"Time usage: \" + str(timedelta(seconds=int(round(time_dif)))))"
   ]
  },
  {
   "cell_type": "code",
   "execution_count": 70,
   "metadata": {},
   "outputs": [
    {
     "name": "stdout",
     "output_type": "stream",
     "text": [
      "./checkpoints\n",
      "True\n",
      "model_checkpoint_path: \"./checkpoints\\\\network35\"\n",
      "all_model_checkpoint_paths: \"./checkpoints\\\\network0\"\n",
      "all_model_checkpoint_paths: \"./checkpoints\\\\network1\"\n",
      "all_model_checkpoint_paths: \"./checkpoints\\\\network2\"\n",
      "all_model_checkpoint_paths: \"./checkpoints\\\\network3\"\n",
      "all_model_checkpoint_paths: \"./checkpoints\\\\network4\"\n",
      "all_model_checkpoint_paths: \"./checkpoints\\\\network5\"\n",
      "all_model_checkpoint_paths: \"./checkpoints\\\\network6\"\n",
      "all_model_checkpoint_paths: \"./checkpoints\\\\network7\"\n",
      "all_model_checkpoint_paths: \"./checkpoints\\\\network8\"\n",
      "all_model_checkpoint_paths: \"./checkpoints\\\\network9\"\n",
      "all_model_checkpoint_paths: \"./checkpoints\\\\network10\"\n",
      "all_model_checkpoint_paths: \"./checkpoints\\\\network11\"\n",
      "all_model_checkpoint_paths: \"./checkpoints\\\\network12\"\n",
      "all_model_checkpoint_paths: \"./checkpoints\\\\network13\"\n",
      "all_model_checkpoint_paths: \"./checkpoints\\\\network14\"\n",
      "all_model_checkpoint_paths: \"./checkpoints\\\\network15\"\n",
      "all_model_checkpoint_paths: \"./checkpoints\\\\network16\"\n",
      "all_model_checkpoint_paths: \"./checkpoints\\\\network17\"\n",
      "all_model_checkpoint_paths: \"./checkpoints\\\\network18\"\n",
      "all_model_checkpoint_paths: \"./checkpoints\\\\network19\"\n",
      "all_model_checkpoint_paths: \"./checkpoints\\\\network20\"\n",
      "all_model_checkpoint_paths: \"./checkpoints\\\\network21\"\n",
      "all_model_checkpoint_paths: \"./checkpoints\\\\network22\"\n",
      "all_model_checkpoint_paths: \"./checkpoints\\\\network23\"\n",
      "all_model_checkpoint_paths: \"./checkpoints\\\\network24\"\n",
      "all_model_checkpoint_paths: \"./checkpoints\\\\network25\"\n",
      "all_model_checkpoint_paths: \"./checkpoints\\\\network26\"\n",
      "all_model_checkpoint_paths: \"./checkpoints\\\\network27\"\n",
      "all_model_checkpoint_paths: \"./checkpoints\\\\network28\"\n",
      "all_model_checkpoint_paths: \"./checkpoints\\\\network29\"\n",
      "all_model_checkpoint_paths: \"./checkpoints\\\\network30\"\n",
      "all_model_checkpoint_paths: \"./checkpoints\\\\network31\"\n",
      "all_model_checkpoint_paths: \"./checkpoints\\\\network32\"\n",
      "all_model_checkpoint_paths: \"./checkpoints\\\\network33\"\n",
      "all_model_checkpoint_paths: \"./checkpoints\\\\network34\"\n",
      "all_model_checkpoint_paths: \"./checkpoints\\\\network35\"\n",
      "\n",
      "['./checkpoints\\\\network0', './checkpoints\\\\network1', './checkpoints\\\\network2', './checkpoints\\\\network3', './checkpoints\\\\network4', './checkpoints\\\\network5', './checkpoints\\\\network6', './checkpoints\\\\network7', './checkpoints\\\\network8', './checkpoints\\\\network9', './checkpoints\\\\network10', './checkpoints\\\\network11', './checkpoints\\\\network12', './checkpoints\\\\network13', './checkpoints\\\\network14', './checkpoints\\\\network15', './checkpoints\\\\network16', './checkpoints\\\\network17', './checkpoints\\\\network18', './checkpoints\\\\network19', './checkpoints\\\\network20', './checkpoints\\\\network21', './checkpoints\\\\network22', './checkpoints\\\\network23', './checkpoints\\\\network24', './checkpoints\\\\network25', './checkpoints\\\\network26', './checkpoints\\\\network27', './checkpoints\\\\network28', './checkpoints\\\\network29', './checkpoints\\\\network30', './checkpoints\\\\network31', './checkpoints\\\\network32', './checkpoints\\\\network33', './checkpoints\\\\network34', './checkpoints\\\\network35']\n",
      "./checkpoints\\network35\n"
     ]
    }
   ],
   "source": [
    "checkpoint_dir = './checkpoints'\n",
    "print(checkpoint_dir)\n",
    "print(os.path.exists(checkpoint_dir))\n",
    "ckpt = tf.train.get_checkpoint_state(checkpoint_dir)\n",
    "print(ckpt)\n",
    "print(ckpt.all_model_checkpoint_paths)\n",
    "print(ckpt.model_checkpoint_path)"
   ]
  },
  {
   "cell_type": "code",
   "execution_count": 71,
   "metadata": {
    "scrolled": true
   },
   "outputs": [
    {
     "name": "stdout",
     "output_type": "stream",
     "text": [
      "Neural network: 0\n",
      "Optimization Iteration:      1, Training Batch Accuracy:  17.2%\n",
      "Optimization Iteration:    101, Training Batch Accuracy:  81.2%\n",
      "Optimization Iteration:    201, Training Batch Accuracy:  85.9%\n",
      "Optimization Iteration:    301, Training Batch Accuracy:  92.2%\n",
      "Optimization Iteration:    401, Training Batch Accuracy:  89.1%\n",
      "Optimization Iteration:    501, Training Batch Accuracy:  95.3%\n",
      "Optimization Iteration:    601, Training Batch Accuracy:  93.8%\n",
      "Optimization Iteration:    701, Training Batch Accuracy:  92.2%\n",
      "Optimization Iteration:    801, Training Batch Accuracy:  95.3%\n",
      "Optimization Iteration:    901, Training Batch Accuracy:  95.3%\n",
      "Optimization Iteration:   1001, Training Batch Accuracy:  96.9%\n",
      "Optimization Iteration:   1101, Training Batch Accuracy:  98.4%\n",
      "Optimization Iteration:   1201, Training Batch Accuracy:  95.3%\n",
      "Optimization Iteration:   1301, Training Batch Accuracy:  93.8%\n",
      "Optimization Iteration:   1401, Training Batch Accuracy: 100.0%\n",
      "Optimization Iteration:   1501, Training Batch Accuracy:  98.4%\n",
      "Optimization Iteration:   1601, Training Batch Accuracy: 100.0%\n",
      "Optimization Iteration:   1701, Training Batch Accuracy:  96.9%\n",
      "Optimization Iteration:   1801, Training Batch Accuracy:  93.8%\n",
      "Optimization Iteration:   1901, Training Batch Accuracy: 100.0%\n",
      "Optimization Iteration:   2001, Training Batch Accuracy: 100.0%\n",
      "Optimization Iteration:   2101, Training Batch Accuracy:  96.9%\n",
      "Optimization Iteration:   2201, Training Batch Accuracy:  96.9%\n",
      "Optimization Iteration:   2301, Training Batch Accuracy:  96.9%\n",
      "Optimization Iteration:   2401, Training Batch Accuracy:  96.9%\n",
      "Optimization Iteration:   2501, Training Batch Accuracy: 100.0%\n",
      "Optimization Iteration:   2601, Training Batch Accuracy:  96.9%\n",
      "Optimization Iteration:   2701, Training Batch Accuracy: 100.0%\n",
      "Optimization Iteration:   2801, Training Batch Accuracy:  96.9%\n",
      "Optimization Iteration:   2901, Training Batch Accuracy: 100.0%\n",
      "Optimization Iteration:   3001, Training Batch Accuracy: 100.0%\n",
      "Optimization Iteration:   3101, Training Batch Accuracy:  98.4%\n",
      "Optimization Iteration:   3201, Training Batch Accuracy:  96.9%\n",
      "Optimization Iteration:   3301, Training Batch Accuracy: 100.0%\n",
      "Optimization Iteration:   3401, Training Batch Accuracy: 100.0%\n",
      "Optimization Iteration:   3501, Training Batch Accuracy:  98.4%\n",
      "Time usage: 0:00:38\n",
      "\n",
      "Neural network: 1\n",
      "Optimization Iteration:      1, Training Batch Accuracy:   7.8%\n",
      "Optimization Iteration:    101, Training Batch Accuracy:  82.8%\n",
      "Optimization Iteration:    201, Training Batch Accuracy:  90.6%\n",
      "Optimization Iteration:    301, Training Batch Accuracy:  93.8%\n",
      "Optimization Iteration:    401, Training Batch Accuracy:  95.3%\n",
      "Optimization Iteration:    501, Training Batch Accuracy:  93.8%\n",
      "Optimization Iteration:    601, Training Batch Accuracy:  93.8%\n",
      "Optimization Iteration:    701, Training Batch Accuracy:  95.3%\n",
      "Optimization Iteration:    801, Training Batch Accuracy:  92.2%\n",
      "Optimization Iteration:    901, Training Batch Accuracy:  96.9%\n",
      "Optimization Iteration:   1001, Training Batch Accuracy:  96.9%\n",
      "Optimization Iteration:   1101, Training Batch Accuracy:  98.4%\n",
      "Optimization Iteration:   1201, Training Batch Accuracy: 100.0%\n",
      "Optimization Iteration:   1301, Training Batch Accuracy:  98.4%\n",
      "Optimization Iteration:   1401, Training Batch Accuracy:  98.4%\n",
      "Optimization Iteration:   1501, Training Batch Accuracy:  98.4%\n",
      "Optimization Iteration:   1601, Training Batch Accuracy: 100.0%\n",
      "Optimization Iteration:   1701, Training Batch Accuracy:  96.9%\n",
      "Optimization Iteration:   1801, Training Batch Accuracy:  98.4%\n",
      "Optimization Iteration:   1901, Training Batch Accuracy:  98.4%\n",
      "Optimization Iteration:   2001, Training Batch Accuracy:  96.9%\n",
      "Optimization Iteration:   2101, Training Batch Accuracy: 100.0%\n",
      "Optimization Iteration:   2201, Training Batch Accuracy:  96.9%\n",
      "Optimization Iteration:   2301, Training Batch Accuracy: 100.0%\n",
      "Optimization Iteration:   2401, Training Batch Accuracy:  95.3%\n",
      "Optimization Iteration:   2501, Training Batch Accuracy:  96.9%\n",
      "Optimization Iteration:   2601, Training Batch Accuracy:  95.3%\n",
      "Optimization Iteration:   2701, Training Batch Accuracy:  98.4%\n",
      "Optimization Iteration:   2801, Training Batch Accuracy: 100.0%\n",
      "Optimization Iteration:   2901, Training Batch Accuracy:  96.9%\n",
      "Optimization Iteration:   3001, Training Batch Accuracy:  98.4%\n",
      "Optimization Iteration:   3101, Training Batch Accuracy: 100.0%\n",
      "Optimization Iteration:   3201, Training Batch Accuracy: 100.0%\n",
      "Optimization Iteration:   3301, Training Batch Accuracy:  96.9%\n",
      "Optimization Iteration:   3401, Training Batch Accuracy: 100.0%\n",
      "Optimization Iteration:   3501, Training Batch Accuracy: 100.0%\n",
      "Time usage: 0:00:38\n",
      "\n",
      "Neural network: 2\n",
      "Optimization Iteration:      1, Training Batch Accuracy:   7.8%\n",
      "Optimization Iteration:    101, Training Batch Accuracy:  81.2%\n",
      "Optimization Iteration:    201, Training Batch Accuracy:  92.2%\n",
      "Optimization Iteration:    301, Training Batch Accuracy: 100.0%\n",
      "Optimization Iteration:    401, Training Batch Accuracy:  85.9%\n",
      "Optimization Iteration:    501, Training Batch Accuracy:  98.4%\n",
      "Optimization Iteration:    601, Training Batch Accuracy:  92.2%\n",
      "Optimization Iteration:    701, Training Batch Accuracy:  98.4%\n",
      "Optimization Iteration:    801, Training Batch Accuracy:  96.9%\n",
      "Optimization Iteration:    901, Training Batch Accuracy:  95.3%\n",
      "Optimization Iteration:   1001, Training Batch Accuracy: 100.0%\n",
      "Optimization Iteration:   1101, Training Batch Accuracy:  98.4%\n",
      "Optimization Iteration:   1201, Training Batch Accuracy:  95.3%\n",
      "Optimization Iteration:   1301, Training Batch Accuracy:  92.2%\n",
      "Optimization Iteration:   1401, Training Batch Accuracy:  96.9%\n",
      "Optimization Iteration:   1501, Training Batch Accuracy:  98.4%\n",
      "Optimization Iteration:   1601, Training Batch Accuracy:  98.4%\n",
      "Optimization Iteration:   1701, Training Batch Accuracy: 100.0%\n",
      "Optimization Iteration:   1801, Training Batch Accuracy:  98.4%\n",
      "Optimization Iteration:   1901, Training Batch Accuracy: 100.0%\n",
      "Optimization Iteration:   2001, Training Batch Accuracy:  96.9%\n",
      "Optimization Iteration:   2101, Training Batch Accuracy:  96.9%\n",
      "Optimization Iteration:   2201, Training Batch Accuracy:  93.8%\n",
      "Optimization Iteration:   2301, Training Batch Accuracy: 100.0%\n",
      "Optimization Iteration:   2401, Training Batch Accuracy: 100.0%\n",
      "Optimization Iteration:   2501, Training Batch Accuracy:  98.4%\n",
      "Optimization Iteration:   2601, Training Batch Accuracy:  98.4%\n",
      "Optimization Iteration:   2701, Training Batch Accuracy: 100.0%\n",
      "Optimization Iteration:   2801, Training Batch Accuracy: 100.0%\n",
      "Optimization Iteration:   2901, Training Batch Accuracy: 100.0%\n",
      "Optimization Iteration:   3001, Training Batch Accuracy: 100.0%\n",
      "Optimization Iteration:   3101, Training Batch Accuracy:  98.4%\n",
      "Optimization Iteration:   3201, Training Batch Accuracy: 100.0%\n",
      "Optimization Iteration:   3301, Training Batch Accuracy:  95.3%\n",
      "Optimization Iteration:   3401, Training Batch Accuracy:  98.4%\n",
      "Optimization Iteration:   3501, Training Batch Accuracy:  98.4%\n",
      "Time usage: 0:00:38\n",
      "\n",
      "Neural network: 3\n",
      "Optimization Iteration:      1, Training Batch Accuracy:  20.3%\n",
      "Optimization Iteration:    101, Training Batch Accuracy:  79.7%\n",
      "Optimization Iteration:    201, Training Batch Accuracy:  89.1%\n",
      "Optimization Iteration:    301, Training Batch Accuracy:  93.8%\n",
      "Optimization Iteration:    401, Training Batch Accuracy:  93.8%\n",
      "Optimization Iteration:    501, Training Batch Accuracy:  95.3%\n",
      "Optimization Iteration:    601, Training Batch Accuracy:  93.8%\n",
      "Optimization Iteration:    701, Training Batch Accuracy:  96.9%\n",
      "Optimization Iteration:    801, Training Batch Accuracy:  93.8%\n",
      "Optimization Iteration:    901, Training Batch Accuracy:  95.3%\n",
      "Optimization Iteration:   1001, Training Batch Accuracy: 100.0%\n",
      "Optimization Iteration:   1101, Training Batch Accuracy:  93.8%\n",
      "Optimization Iteration:   1201, Training Batch Accuracy:  96.9%\n",
      "Optimization Iteration:   1301, Training Batch Accuracy:  93.8%\n",
      "Optimization Iteration:   1401, Training Batch Accuracy:  98.4%\n",
      "Optimization Iteration:   1501, Training Batch Accuracy:  92.2%\n",
      "Optimization Iteration:   1601, Training Batch Accuracy:  96.9%\n",
      "Optimization Iteration:   1701, Training Batch Accuracy:  98.4%\n"
     ]
    },
    {
     "name": "stdout",
     "output_type": "stream",
     "text": [
      "Optimization Iteration:   1801, Training Batch Accuracy: 100.0%\n",
      "Optimization Iteration:   1901, Training Batch Accuracy:  98.4%\n",
      "Optimization Iteration:   2001, Training Batch Accuracy:  98.4%\n",
      "Optimization Iteration:   2101, Training Batch Accuracy:  96.9%\n",
      "Optimization Iteration:   2201, Training Batch Accuracy: 100.0%\n",
      "Optimization Iteration:   2301, Training Batch Accuracy:  98.4%\n",
      "Optimization Iteration:   2401, Training Batch Accuracy:  98.4%\n",
      "Optimization Iteration:   2501, Training Batch Accuracy: 100.0%\n",
      "Optimization Iteration:   2601, Training Batch Accuracy:  98.4%\n",
      "Optimization Iteration:   2701, Training Batch Accuracy:  98.4%\n",
      "Optimization Iteration:   2801, Training Batch Accuracy:  98.4%\n",
      "Optimization Iteration:   2901, Training Batch Accuracy:  95.3%\n",
      "Optimization Iteration:   3001, Training Batch Accuracy:  98.4%\n",
      "Optimization Iteration:   3101, Training Batch Accuracy:  98.4%\n",
      "Optimization Iteration:   3201, Training Batch Accuracy: 100.0%\n",
      "Optimization Iteration:   3301, Training Batch Accuracy:  98.4%\n",
      "Optimization Iteration:   3401, Training Batch Accuracy:  96.9%\n",
      "Optimization Iteration:   3501, Training Batch Accuracy: 100.0%\n",
      "Time usage: 0:00:38\n",
      "\n",
      "Neural network: 4\n",
      "Optimization Iteration:      1, Training Batch Accuracy:  29.7%\n",
      "Optimization Iteration:    101, Training Batch Accuracy:  85.9%\n",
      "Optimization Iteration:    201, Training Batch Accuracy:  93.8%\n",
      "Optimization Iteration:    301, Training Batch Accuracy:  85.9%\n",
      "Optimization Iteration:    401, Training Batch Accuracy:  92.2%\n",
      "Optimization Iteration:    501, Training Batch Accuracy:  90.6%\n",
      "Optimization Iteration:    601, Training Batch Accuracy:  96.9%\n",
      "Optimization Iteration:    701, Training Batch Accuracy:  92.2%\n",
      "Optimization Iteration:    801, Training Batch Accuracy:  96.9%\n",
      "Optimization Iteration:    901, Training Batch Accuracy:  92.2%\n",
      "Optimization Iteration:   1001, Training Batch Accuracy:  95.3%\n",
      "Optimization Iteration:   1101, Training Batch Accuracy:  96.9%\n",
      "Optimization Iteration:   1201, Training Batch Accuracy:  93.8%\n",
      "Optimization Iteration:   1301, Training Batch Accuracy:  96.9%\n",
      "Optimization Iteration:   1401, Training Batch Accuracy:  98.4%\n",
      "Optimization Iteration:   1501, Training Batch Accuracy:  95.3%\n",
      "Optimization Iteration:   1601, Training Batch Accuracy: 100.0%\n",
      "Optimization Iteration:   1701, Training Batch Accuracy:  96.9%\n",
      "Optimization Iteration:   1801, Training Batch Accuracy: 100.0%\n",
      "Optimization Iteration:   1901, Training Batch Accuracy:  98.4%\n",
      "Optimization Iteration:   2001, Training Batch Accuracy: 100.0%\n",
      "Optimization Iteration:   2101, Training Batch Accuracy:  95.3%\n",
      "Optimization Iteration:   2201, Training Batch Accuracy:  98.4%\n",
      "Optimization Iteration:   2301, Training Batch Accuracy:  96.9%\n",
      "Optimization Iteration:   2401, Training Batch Accuracy:  96.9%\n",
      "Optimization Iteration:   2501, Training Batch Accuracy:  95.3%\n",
      "Optimization Iteration:   2601, Training Batch Accuracy: 100.0%\n",
      "Optimization Iteration:   2701, Training Batch Accuracy:  98.4%\n",
      "Optimization Iteration:   2801, Training Batch Accuracy:  98.4%\n",
      "Optimization Iteration:   2901, Training Batch Accuracy: 100.0%\n",
      "Optimization Iteration:   3001, Training Batch Accuracy: 100.0%\n",
      "Optimization Iteration:   3101, Training Batch Accuracy:  96.9%\n",
      "Optimization Iteration:   3201, Training Batch Accuracy: 100.0%\n",
      "Optimization Iteration:   3301, Training Batch Accuracy:  96.9%\n",
      "Optimization Iteration:   3401, Training Batch Accuracy:  98.4%\n",
      "Optimization Iteration:   3501, Training Batch Accuracy:  98.4%\n",
      "Time usage: 0:00:38\n",
      "\n",
      "Neural network: 5\n",
      "Optimization Iteration:      1, Training Batch Accuracy:  20.3%\n",
      "Optimization Iteration:    101, Training Batch Accuracy:  89.1%\n",
      "Optimization Iteration:    201, Training Batch Accuracy:  90.6%\n",
      "Optimization Iteration:    301, Training Batch Accuracy:  98.4%\n",
      "Optimization Iteration:    401, Training Batch Accuracy:  98.4%\n",
      "Optimization Iteration:    501, Training Batch Accuracy: 100.0%\n",
      "Optimization Iteration:    601, Training Batch Accuracy:  96.9%\n",
      "Optimization Iteration:    701, Training Batch Accuracy:  96.9%\n",
      "Optimization Iteration:    801, Training Batch Accuracy:  98.4%\n",
      "Optimization Iteration:    901, Training Batch Accuracy:  95.3%\n",
      "Optimization Iteration:   1001, Training Batch Accuracy:  90.6%\n",
      "Optimization Iteration:   1101, Training Batch Accuracy:  98.4%\n",
      "Optimization Iteration:   1201, Training Batch Accuracy:  96.9%\n",
      "Optimization Iteration:   1301, Training Batch Accuracy:  95.3%\n",
      "Optimization Iteration:   1401, Training Batch Accuracy:  95.3%\n",
      "Optimization Iteration:   1501, Training Batch Accuracy:  98.4%\n",
      "Optimization Iteration:   1601, Training Batch Accuracy:  98.4%\n",
      "Optimization Iteration:   1701, Training Batch Accuracy:  95.3%\n",
      "Optimization Iteration:   1801, Training Batch Accuracy:  98.4%\n",
      "Optimization Iteration:   1901, Training Batch Accuracy:  98.4%\n",
      "Optimization Iteration:   2001, Training Batch Accuracy: 100.0%\n",
      "Optimization Iteration:   2101, Training Batch Accuracy:  96.9%\n",
      "Optimization Iteration:   2201, Training Batch Accuracy:  98.4%\n",
      "Optimization Iteration:   2301, Training Batch Accuracy:  98.4%\n",
      "Optimization Iteration:   2401, Training Batch Accuracy: 100.0%\n",
      "Optimization Iteration:   2501, Training Batch Accuracy:  96.9%\n",
      "Optimization Iteration:   2601, Training Batch Accuracy:  95.3%\n",
      "Optimization Iteration:   2701, Training Batch Accuracy: 100.0%\n",
      "Optimization Iteration:   2801, Training Batch Accuracy:  98.4%\n",
      "Optimization Iteration:   2901, Training Batch Accuracy:  98.4%\n",
      "Optimization Iteration:   3001, Training Batch Accuracy:  96.9%\n",
      "Optimization Iteration:   3101, Training Batch Accuracy:  98.4%\n",
      "Optimization Iteration:   3201, Training Batch Accuracy:  96.9%\n",
      "Optimization Iteration:   3301, Training Batch Accuracy:  98.4%\n",
      "Optimization Iteration:   3401, Training Batch Accuracy:  98.4%\n",
      "Optimization Iteration:   3501, Training Batch Accuracy:  98.4%\n",
      "Time usage: 0:00:38\n",
      "\n",
      "Neural network: 6\n",
      "Optimization Iteration:      1, Training Batch Accuracy:  12.5%\n",
      "Optimization Iteration:    101, Training Batch Accuracy:  89.1%\n",
      "Optimization Iteration:    201, Training Batch Accuracy:  89.1%\n",
      "Optimization Iteration:    301, Training Batch Accuracy:  95.3%\n",
      "Optimization Iteration:    401, Training Batch Accuracy:  90.6%\n",
      "Optimization Iteration:    501, Training Batch Accuracy:  95.3%\n",
      "Optimization Iteration:    601, Training Batch Accuracy:  95.3%\n",
      "Optimization Iteration:    701, Training Batch Accuracy:  93.8%\n",
      "Optimization Iteration:    801, Training Batch Accuracy:  90.6%\n",
      "Optimization Iteration:    901, Training Batch Accuracy:  96.9%\n",
      "Optimization Iteration:   1001, Training Batch Accuracy:  92.2%\n",
      "Optimization Iteration:   1101, Training Batch Accuracy:  95.3%\n",
      "Optimization Iteration:   1201, Training Batch Accuracy: 100.0%\n",
      "Optimization Iteration:   1301, Training Batch Accuracy:  96.9%\n",
      "Optimization Iteration:   1401, Training Batch Accuracy:  92.2%\n",
      "Optimization Iteration:   1501, Training Batch Accuracy:  93.8%\n",
      "Optimization Iteration:   1601, Training Batch Accuracy:  98.4%\n",
      "Optimization Iteration:   1701, Training Batch Accuracy:  95.3%\n",
      "Optimization Iteration:   1801, Training Batch Accuracy:  96.9%\n",
      "Optimization Iteration:   1901, Training Batch Accuracy:  95.3%\n",
      "Optimization Iteration:   2001, Training Batch Accuracy:  98.4%\n",
      "Optimization Iteration:   2101, Training Batch Accuracy:  96.9%\n",
      "Optimization Iteration:   2201, Training Batch Accuracy:  96.9%\n",
      "Optimization Iteration:   2301, Training Batch Accuracy:  96.9%\n",
      "Optimization Iteration:   2401, Training Batch Accuracy:  98.4%\n",
      "Optimization Iteration:   2501, Training Batch Accuracy:  98.4%\n",
      "Optimization Iteration:   2601, Training Batch Accuracy:  96.9%\n",
      "Optimization Iteration:   2701, Training Batch Accuracy:  98.4%\n",
      "Optimization Iteration:   2801, Training Batch Accuracy: 100.0%\n",
      "Optimization Iteration:   2901, Training Batch Accuracy: 100.0%\n",
      "Optimization Iteration:   3001, Training Batch Accuracy:  96.9%\n",
      "Optimization Iteration:   3101, Training Batch Accuracy:  98.4%\n",
      "Optimization Iteration:   3201, Training Batch Accuracy:  96.9%\n",
      "Optimization Iteration:   3301, Training Batch Accuracy:  98.4%\n",
      "Optimization Iteration:   3401, Training Batch Accuracy:  98.4%\n",
      "Optimization Iteration:   3501, Training Batch Accuracy:  95.3%\n",
      "Time usage: 0:00:37\n"
     ]
    },
    {
     "name": "stdout",
     "output_type": "stream",
     "text": [
      "\n",
      "Neural network: 7\n",
      "Optimization Iteration:      1, Training Batch Accuracy:   6.2%\n",
      "Optimization Iteration:    101, Training Batch Accuracy:  90.6%\n",
      "Optimization Iteration:    201, Training Batch Accuracy:  87.5%\n",
      "Optimization Iteration:    301, Training Batch Accuracy:  95.3%\n",
      "Optimization Iteration:    401, Training Batch Accuracy:  95.3%\n",
      "Optimization Iteration:    501, Training Batch Accuracy:  93.8%\n",
      "Optimization Iteration:    601, Training Batch Accuracy:  96.9%\n",
      "Optimization Iteration:    701, Training Batch Accuracy:  92.2%\n",
      "Optimization Iteration:    801, Training Batch Accuracy:  96.9%\n",
      "Optimization Iteration:    901, Training Batch Accuracy: 100.0%\n",
      "Optimization Iteration:   1001, Training Batch Accuracy:  98.4%\n",
      "Optimization Iteration:   1101, Training Batch Accuracy:  93.8%\n",
      "Optimization Iteration:   1201, Training Batch Accuracy:  96.9%\n",
      "Optimization Iteration:   1301, Training Batch Accuracy:  95.3%\n",
      "Optimization Iteration:   1401, Training Batch Accuracy:  95.3%\n",
      "Optimization Iteration:   1501, Training Batch Accuracy:  93.8%\n",
      "Optimization Iteration:   1601, Training Batch Accuracy:  96.9%\n",
      "Optimization Iteration:   1701, Training Batch Accuracy:  98.4%\n",
      "Optimization Iteration:   1801, Training Batch Accuracy:  98.4%\n",
      "Optimization Iteration:   1901, Training Batch Accuracy:  98.4%\n",
      "Optimization Iteration:   2001, Training Batch Accuracy:  98.4%\n",
      "Optimization Iteration:   2101, Training Batch Accuracy:  96.9%\n",
      "Optimization Iteration:   2201, Training Batch Accuracy: 100.0%\n",
      "Optimization Iteration:   2301, Training Batch Accuracy:  96.9%\n",
      "Optimization Iteration:   2401, Training Batch Accuracy:  98.4%\n",
      "Optimization Iteration:   2501, Training Batch Accuracy: 100.0%\n",
      "Optimization Iteration:   2601, Training Batch Accuracy:  98.4%\n",
      "Optimization Iteration:   2701, Training Batch Accuracy:  98.4%\n",
      "Optimization Iteration:   2801, Training Batch Accuracy:  95.3%\n",
      "Optimization Iteration:   2901, Training Batch Accuracy:  95.3%\n",
      "Optimization Iteration:   3001, Training Batch Accuracy:  98.4%\n",
      "Optimization Iteration:   3101, Training Batch Accuracy: 100.0%\n",
      "Optimization Iteration:   3201, Training Batch Accuracy: 100.0%\n",
      "Optimization Iteration:   3301, Training Batch Accuracy:  98.4%\n",
      "Optimization Iteration:   3401, Training Batch Accuracy:  98.4%\n",
      "Optimization Iteration:   3501, Training Batch Accuracy: 100.0%\n",
      "Time usage: 0:00:38\n",
      "\n",
      "Neural network: 8\n",
      "Optimization Iteration:      1, Training Batch Accuracy:   9.4%\n",
      "Optimization Iteration:    101, Training Batch Accuracy:  90.6%\n",
      "Optimization Iteration:    201, Training Batch Accuracy:  93.8%\n",
      "Optimization Iteration:    301, Training Batch Accuracy:  95.3%\n",
      "Optimization Iteration:    401, Training Batch Accuracy:  93.8%\n",
      "Optimization Iteration:    501, Training Batch Accuracy:  92.2%\n",
      "Optimization Iteration:    601, Training Batch Accuracy:  95.3%\n",
      "Optimization Iteration:    701, Training Batch Accuracy: 100.0%\n",
      "Optimization Iteration:    801, Training Batch Accuracy:  95.3%\n",
      "Optimization Iteration:    901, Training Batch Accuracy:  96.9%\n",
      "Optimization Iteration:   1001, Training Batch Accuracy:  96.9%\n",
      "Optimization Iteration:   1101, Training Batch Accuracy: 100.0%\n",
      "Optimization Iteration:   1201, Training Batch Accuracy: 100.0%\n",
      "Optimization Iteration:   1301, Training Batch Accuracy:  95.3%\n",
      "Optimization Iteration:   1401, Training Batch Accuracy:  93.8%\n",
      "Optimization Iteration:   1501, Training Batch Accuracy:  95.3%\n",
      "Optimization Iteration:   1601, Training Batch Accuracy:  98.4%\n",
      "Optimization Iteration:   1701, Training Batch Accuracy:  98.4%\n",
      "Optimization Iteration:   1801, Training Batch Accuracy:  98.4%\n",
      "Optimization Iteration:   1901, Training Batch Accuracy:  98.4%\n",
      "Optimization Iteration:   2001, Training Batch Accuracy:  98.4%\n",
      "Optimization Iteration:   2101, Training Batch Accuracy:  96.9%\n",
      "Optimization Iteration:   2201, Training Batch Accuracy: 100.0%\n",
      "Optimization Iteration:   2301, Training Batch Accuracy:  93.8%\n",
      "Optimization Iteration:   2401, Training Batch Accuracy: 100.0%\n",
      "Optimization Iteration:   2501, Training Batch Accuracy:  95.3%\n",
      "Optimization Iteration:   2601, Training Batch Accuracy: 100.0%\n",
      "Optimization Iteration:   2701, Training Batch Accuracy:  95.3%\n",
      "Optimization Iteration:   2801, Training Batch Accuracy: 100.0%\n",
      "Optimization Iteration:   2901, Training Batch Accuracy:  98.4%\n",
      "Optimization Iteration:   3001, Training Batch Accuracy: 100.0%\n",
      "Optimization Iteration:   3101, Training Batch Accuracy: 100.0%\n",
      "Optimization Iteration:   3201, Training Batch Accuracy: 100.0%\n",
      "Optimization Iteration:   3301, Training Batch Accuracy:  95.3%\n",
      "Optimization Iteration:   3401, Training Batch Accuracy: 100.0%\n",
      "Optimization Iteration:   3501, Training Batch Accuracy: 100.0%\n",
      "Time usage: 0:00:40\n",
      "\n",
      "Neural network: 9\n",
      "Optimization Iteration:      1, Training Batch Accuracy:  20.3%\n",
      "Optimization Iteration:    101, Training Batch Accuracy:  79.7%\n",
      "Optimization Iteration:    201, Training Batch Accuracy:  82.8%\n",
      "Optimization Iteration:    301, Training Batch Accuracy:  92.2%\n",
      "Optimization Iteration:    401, Training Batch Accuracy:  93.8%\n",
      "Optimization Iteration:    501, Training Batch Accuracy:  98.4%\n",
      "Optimization Iteration:    601, Training Batch Accuracy:  90.6%\n",
      "Optimization Iteration:    701, Training Batch Accuracy:  92.2%\n",
      "Optimization Iteration:    801, Training Batch Accuracy:  93.8%\n",
      "Optimization Iteration:    901, Training Batch Accuracy:  98.4%\n",
      "Optimization Iteration:   1001, Training Batch Accuracy:  98.4%\n",
      "Optimization Iteration:   1101, Training Batch Accuracy:  98.4%\n",
      "Optimization Iteration:   1201, Training Batch Accuracy:  98.4%\n",
      "Optimization Iteration:   1301, Training Batch Accuracy:  98.4%\n",
      "Optimization Iteration:   1401, Training Batch Accuracy:  96.9%\n",
      "Optimization Iteration:   1501, Training Batch Accuracy:  96.9%\n",
      "Optimization Iteration:   1601, Training Batch Accuracy: 100.0%\n",
      "Optimization Iteration:   1701, Training Batch Accuracy:  98.4%\n",
      "Optimization Iteration:   1801, Training Batch Accuracy:  98.4%\n",
      "Optimization Iteration:   1901, Training Batch Accuracy:  98.4%\n",
      "Optimization Iteration:   2001, Training Batch Accuracy:  96.9%\n",
      "Optimization Iteration:   2101, Training Batch Accuracy:  98.4%\n",
      "Optimization Iteration:   2201, Training Batch Accuracy:  98.4%\n",
      "Optimization Iteration:   2301, Training Batch Accuracy:  98.4%\n",
      "Optimization Iteration:   2401, Training Batch Accuracy:  98.4%\n",
      "Optimization Iteration:   2501, Training Batch Accuracy:  98.4%\n",
      "Optimization Iteration:   2601, Training Batch Accuracy: 100.0%\n",
      "Optimization Iteration:   2701, Training Batch Accuracy: 100.0%\n",
      "Optimization Iteration:   2801, Training Batch Accuracy:  98.4%\n",
      "Optimization Iteration:   2901, Training Batch Accuracy: 100.0%\n",
      "Optimization Iteration:   3001, Training Batch Accuracy:  98.4%\n",
      "Optimization Iteration:   3101, Training Batch Accuracy:  96.9%\n",
      "Optimization Iteration:   3201, Training Batch Accuracy:  98.4%\n",
      "Optimization Iteration:   3301, Training Batch Accuracy:  98.4%\n",
      "Optimization Iteration:   3401, Training Batch Accuracy:  98.4%\n",
      "Optimization Iteration:   3501, Training Batch Accuracy: 100.0%\n",
      "Time usage: 0:00:37\n",
      "\n",
      "Neural network: 10\n",
      "Optimization Iteration:      1, Training Batch Accuracy:   7.8%\n",
      "Optimization Iteration:    101, Training Batch Accuracy:  89.1%\n",
      "Optimization Iteration:    201, Training Batch Accuracy:  89.1%\n",
      "Optimization Iteration:    301, Training Batch Accuracy:  90.6%\n",
      "Optimization Iteration:    401, Training Batch Accuracy:  95.3%\n",
      "Optimization Iteration:    501, Training Batch Accuracy:  95.3%\n",
      "Optimization Iteration:    601, Training Batch Accuracy:  96.9%\n",
      "Optimization Iteration:    701, Training Batch Accuracy:  95.3%\n",
      "Optimization Iteration:    801, Training Batch Accuracy:  96.9%\n",
      "Optimization Iteration:    901, Training Batch Accuracy: 100.0%\n",
      "Optimization Iteration:   1001, Training Batch Accuracy:  95.3%\n",
      "Optimization Iteration:   1101, Training Batch Accuracy:  95.3%\n",
      "Optimization Iteration:   1201, Training Batch Accuracy:  95.3%\n",
      "Optimization Iteration:   1301, Training Batch Accuracy:  95.3%\n",
      "Optimization Iteration:   1401, Training Batch Accuracy:  96.9%\n",
      "Optimization Iteration:   1501, Training Batch Accuracy:  96.9%\n",
      "Optimization Iteration:   1601, Training Batch Accuracy:  98.4%\n",
      "Optimization Iteration:   1701, Training Batch Accuracy: 100.0%\n"
     ]
    },
    {
     "name": "stdout",
     "output_type": "stream",
     "text": [
      "Optimization Iteration:   1801, Training Batch Accuracy:  98.4%\n",
      "Optimization Iteration:   1901, Training Batch Accuracy:  98.4%\n",
      "Optimization Iteration:   2001, Training Batch Accuracy: 100.0%\n",
      "Optimization Iteration:   2101, Training Batch Accuracy: 100.0%\n",
      "Optimization Iteration:   2201, Training Batch Accuracy:  92.2%\n",
      "Optimization Iteration:   2301, Training Batch Accuracy: 100.0%\n",
      "Optimization Iteration:   2401, Training Batch Accuracy: 100.0%\n",
      "Optimization Iteration:   2501, Training Batch Accuracy: 100.0%\n",
      "Optimization Iteration:   2601, Training Batch Accuracy: 100.0%\n",
      "Optimization Iteration:   2701, Training Batch Accuracy:  96.9%\n",
      "Optimization Iteration:   2801, Training Batch Accuracy: 100.0%\n",
      "Optimization Iteration:   2901, Training Batch Accuracy:  96.9%\n",
      "Optimization Iteration:   3001, Training Batch Accuracy:  98.4%\n",
      "Optimization Iteration:   3101, Training Batch Accuracy:  95.3%\n",
      "Optimization Iteration:   3201, Training Batch Accuracy:  98.4%\n",
      "Optimization Iteration:   3301, Training Batch Accuracy:  98.4%\n",
      "Optimization Iteration:   3401, Training Batch Accuracy: 100.0%\n",
      "Optimization Iteration:   3501, Training Batch Accuracy:  98.4%\n",
      "Time usage: 0:00:38\n",
      "\n",
      "Neural network: 11\n",
      "Optimization Iteration:      1, Training Batch Accuracy:  14.1%\n",
      "Optimization Iteration:    101, Training Batch Accuracy:  87.5%\n",
      "Optimization Iteration:    201, Training Batch Accuracy:  89.1%\n",
      "Optimization Iteration:    301, Training Batch Accuracy:  98.4%\n",
      "Optimization Iteration:    401, Training Batch Accuracy:  89.1%\n",
      "Optimization Iteration:    501, Training Batch Accuracy:  95.3%\n",
      "Optimization Iteration:    601, Training Batch Accuracy:  95.3%\n",
      "Optimization Iteration:    701, Training Batch Accuracy:  98.4%\n",
      "Optimization Iteration:    801, Training Batch Accuracy:  98.4%\n",
      "Optimization Iteration:    901, Training Batch Accuracy:  95.3%\n",
      "Optimization Iteration:   1001, Training Batch Accuracy:  96.9%\n",
      "Optimization Iteration:   1101, Training Batch Accuracy: 100.0%\n",
      "Optimization Iteration:   1201, Training Batch Accuracy:  98.4%\n",
      "Optimization Iteration:   1301, Training Batch Accuracy:  96.9%\n",
      "Optimization Iteration:   1401, Training Batch Accuracy:  96.9%\n",
      "Optimization Iteration:   1501, Training Batch Accuracy:  98.4%\n",
      "Optimization Iteration:   1601, Training Batch Accuracy:  98.4%\n",
      "Optimization Iteration:   1701, Training Batch Accuracy: 100.0%\n",
      "Optimization Iteration:   1801, Training Batch Accuracy:  98.4%\n",
      "Optimization Iteration:   1901, Training Batch Accuracy:  96.9%\n",
      "Optimization Iteration:   2001, Training Batch Accuracy:  95.3%\n",
      "Optimization Iteration:   2101, Training Batch Accuracy: 100.0%\n",
      "Optimization Iteration:   2201, Training Batch Accuracy: 100.0%\n",
      "Optimization Iteration:   2301, Training Batch Accuracy: 100.0%\n",
      "Optimization Iteration:   2401, Training Batch Accuracy:  98.4%\n",
      "Optimization Iteration:   2501, Training Batch Accuracy: 100.0%\n",
      "Optimization Iteration:   2601, Training Batch Accuracy: 100.0%\n",
      "Optimization Iteration:   2701, Training Batch Accuracy:  93.8%\n",
      "Optimization Iteration:   2801, Training Batch Accuracy:  96.9%\n",
      "Optimization Iteration:   2901, Training Batch Accuracy:  95.3%\n",
      "Optimization Iteration:   3001, Training Batch Accuracy: 100.0%\n",
      "Optimization Iteration:   3101, Training Batch Accuracy:  98.4%\n",
      "Optimization Iteration:   3201, Training Batch Accuracy:  98.4%\n",
      "Optimization Iteration:   3301, Training Batch Accuracy: 100.0%\n",
      "Optimization Iteration:   3401, Training Batch Accuracy: 100.0%\n",
      "Optimization Iteration:   3501, Training Batch Accuracy:  96.9%\n",
      "Time usage: 0:00:38\n",
      "\n",
      "Neural network: 12\n",
      "Optimization Iteration:      1, Training Batch Accuracy:  10.9%\n",
      "Optimization Iteration:    101, Training Batch Accuracy:  89.1%\n",
      "Optimization Iteration:    201, Training Batch Accuracy:  87.5%\n",
      "Optimization Iteration:    301, Training Batch Accuracy:  95.3%\n",
      "Optimization Iteration:    401, Training Batch Accuracy:  92.2%\n",
      "Optimization Iteration:    501, Training Batch Accuracy:  92.2%\n",
      "Optimization Iteration:    601, Training Batch Accuracy:  92.2%\n",
      "Optimization Iteration:    701, Training Batch Accuracy:  98.4%\n",
      "Optimization Iteration:    801, Training Batch Accuracy: 100.0%\n",
      "Optimization Iteration:    901, Training Batch Accuracy:  98.4%\n",
      "Optimization Iteration:   1001, Training Batch Accuracy:  93.8%\n",
      "Optimization Iteration:   1101, Training Batch Accuracy:  98.4%\n",
      "Optimization Iteration:   1201, Training Batch Accuracy:  96.9%\n",
      "Optimization Iteration:   1301, Training Batch Accuracy:  98.4%\n",
      "Optimization Iteration:   1401, Training Batch Accuracy: 100.0%\n",
      "Optimization Iteration:   1501, Training Batch Accuracy:  98.4%\n",
      "Optimization Iteration:   1601, Training Batch Accuracy:  98.4%\n",
      "Optimization Iteration:   1701, Training Batch Accuracy:  98.4%\n",
      "Optimization Iteration:   1801, Training Batch Accuracy: 100.0%\n",
      "Optimization Iteration:   1901, Training Batch Accuracy: 100.0%\n",
      "Optimization Iteration:   2001, Training Batch Accuracy:  96.9%\n",
      "Optimization Iteration:   2101, Training Batch Accuracy:  98.4%\n",
      "Optimization Iteration:   2201, Training Batch Accuracy: 100.0%\n",
      "Optimization Iteration:   2301, Training Batch Accuracy:  96.9%\n",
      "Optimization Iteration:   2401, Training Batch Accuracy: 100.0%\n",
      "Optimization Iteration:   2501, Training Batch Accuracy:  90.6%\n",
      "Optimization Iteration:   2601, Training Batch Accuracy:  95.3%\n",
      "Optimization Iteration:   2701, Training Batch Accuracy: 100.0%\n",
      "Optimization Iteration:   2801, Training Batch Accuracy: 100.0%\n",
      "Optimization Iteration:   2901, Training Batch Accuracy:  98.4%\n",
      "Optimization Iteration:   3001, Training Batch Accuracy: 100.0%\n",
      "Optimization Iteration:   3101, Training Batch Accuracy:  98.4%\n",
      "Optimization Iteration:   3201, Training Batch Accuracy:  98.4%\n",
      "Optimization Iteration:   3301, Training Batch Accuracy:  96.9%\n",
      "Optimization Iteration:   3401, Training Batch Accuracy:  96.9%\n",
      "Optimization Iteration:   3501, Training Batch Accuracy:  95.3%\n",
      "Time usage: 0:00:41\n",
      "\n",
      "Neural network: 13\n",
      "Optimization Iteration:      1, Training Batch Accuracy:  18.8%\n",
      "Optimization Iteration:    101, Training Batch Accuracy:  85.9%\n",
      "Optimization Iteration:    201, Training Batch Accuracy:  93.8%\n",
      "Optimization Iteration:    301, Training Batch Accuracy:  92.2%\n",
      "Optimization Iteration:    401, Training Batch Accuracy:  95.3%\n",
      "Optimization Iteration:    501, Training Batch Accuracy:  92.2%\n",
      "Optimization Iteration:    601, Training Batch Accuracy:  95.3%\n",
      "Optimization Iteration:    701, Training Batch Accuracy:  93.8%\n",
      "Optimization Iteration:    801, Training Batch Accuracy:  98.4%\n",
      "Optimization Iteration:    901, Training Batch Accuracy:  98.4%\n",
      "Optimization Iteration:   1001, Training Batch Accuracy:  95.3%\n",
      "Optimization Iteration:   1101, Training Batch Accuracy:  93.8%\n",
      "Optimization Iteration:   1201, Training Batch Accuracy:  98.4%\n",
      "Optimization Iteration:   1301, Training Batch Accuracy:  96.9%\n",
      "Optimization Iteration:   1401, Training Batch Accuracy:  96.9%\n",
      "Optimization Iteration:   1501, Training Batch Accuracy:  98.4%\n",
      "Optimization Iteration:   1601, Training Batch Accuracy:  95.3%\n",
      "Optimization Iteration:   1701, Training Batch Accuracy:  98.4%\n",
      "Optimization Iteration:   1801, Training Batch Accuracy:  95.3%\n",
      "Optimization Iteration:   1901, Training Batch Accuracy:  95.3%\n",
      "Optimization Iteration:   2001, Training Batch Accuracy:  95.3%\n",
      "Optimization Iteration:   2101, Training Batch Accuracy: 100.0%\n",
      "Optimization Iteration:   2201, Training Batch Accuracy:  96.9%\n",
      "Optimization Iteration:   2301, Training Batch Accuracy:  96.9%\n",
      "Optimization Iteration:   2401, Training Batch Accuracy:  96.9%\n",
      "Optimization Iteration:   2501, Training Batch Accuracy: 100.0%\n",
      "Optimization Iteration:   2601, Training Batch Accuracy: 100.0%\n",
      "Optimization Iteration:   2701, Training Batch Accuracy:  95.3%\n",
      "Optimization Iteration:   2801, Training Batch Accuracy:  98.4%\n",
      "Optimization Iteration:   2901, Training Batch Accuracy: 100.0%\n",
      "Optimization Iteration:   3001, Training Batch Accuracy: 100.0%\n",
      "Optimization Iteration:   3101, Training Batch Accuracy:  98.4%\n",
      "Optimization Iteration:   3201, Training Batch Accuracy: 100.0%\n",
      "Optimization Iteration:   3301, Training Batch Accuracy: 100.0%\n",
      "Optimization Iteration:   3401, Training Batch Accuracy:  95.3%\n",
      "Optimization Iteration:   3501, Training Batch Accuracy:  98.4%\n",
      "Time usage: 0:00:48\n"
     ]
    },
    {
     "name": "stdout",
     "output_type": "stream",
     "text": [
      "\n",
      "Neural network: 14\n",
      "Optimization Iteration:      1, Training Batch Accuracy:  17.2%\n",
      "Optimization Iteration:    101, Training Batch Accuracy:  82.8%\n",
      "Optimization Iteration:    201, Training Batch Accuracy:  96.9%\n",
      "Optimization Iteration:    301, Training Batch Accuracy:  95.3%\n",
      "Optimization Iteration:    401, Training Batch Accuracy:  95.3%\n",
      "Optimization Iteration:    501, Training Batch Accuracy:  93.8%\n",
      "Optimization Iteration:    601, Training Batch Accuracy:  95.3%\n",
      "Optimization Iteration:    701, Training Batch Accuracy:  95.3%\n",
      "Optimization Iteration:    801, Training Batch Accuracy:  93.8%\n",
      "Optimization Iteration:    901, Training Batch Accuracy:  98.4%\n",
      "Optimization Iteration:   1001, Training Batch Accuracy:  98.4%\n",
      "Optimization Iteration:   1101, Training Batch Accuracy:  93.8%\n",
      "Optimization Iteration:   1201, Training Batch Accuracy:  92.2%\n",
      "Optimization Iteration:   1301, Training Batch Accuracy:  95.3%\n",
      "Optimization Iteration:   1401, Training Batch Accuracy:  98.4%\n",
      "Optimization Iteration:   1501, Training Batch Accuracy:  98.4%\n",
      "Optimization Iteration:   1601, Training Batch Accuracy:  98.4%\n",
      "Optimization Iteration:   1701, Training Batch Accuracy:  98.4%\n",
      "Optimization Iteration:   1801, Training Batch Accuracy: 100.0%\n",
      "Optimization Iteration:   1901, Training Batch Accuracy:  98.4%\n",
      "Optimization Iteration:   2001, Training Batch Accuracy:  96.9%\n",
      "Optimization Iteration:   2101, Training Batch Accuracy:  98.4%\n",
      "Optimization Iteration:   2201, Training Batch Accuracy: 100.0%\n",
      "Optimization Iteration:   2301, Training Batch Accuracy:  98.4%\n",
      "Optimization Iteration:   2401, Training Batch Accuracy:  98.4%\n",
      "Optimization Iteration:   2501, Training Batch Accuracy:  98.4%\n",
      "Optimization Iteration:   2601, Training Batch Accuracy: 100.0%\n",
      "Optimization Iteration:   2701, Training Batch Accuracy:  96.9%\n",
      "Optimization Iteration:   2801, Training Batch Accuracy:  95.3%\n",
      "Optimization Iteration:   2901, Training Batch Accuracy:  96.9%\n",
      "Optimization Iteration:   3001, Training Batch Accuracy: 100.0%\n",
      "Optimization Iteration:   3101, Training Batch Accuracy:  98.4%\n",
      "Optimization Iteration:   3201, Training Batch Accuracy:  98.4%\n",
      "Optimization Iteration:   3301, Training Batch Accuracy:  98.4%\n",
      "Optimization Iteration:   3401, Training Batch Accuracy:  98.4%\n",
      "Optimization Iteration:   3501, Training Batch Accuracy:  98.4%\n",
      "Time usage: 0:00:40\n",
      "\n",
      "Neural network: 15\n",
      "Optimization Iteration:      1, Training Batch Accuracy:  12.5%\n",
      "Optimization Iteration:    101, Training Batch Accuracy:  81.2%\n",
      "Optimization Iteration:    201, Training Batch Accuracy:  95.3%\n",
      "Optimization Iteration:    301, Training Batch Accuracy:  90.6%\n",
      "Optimization Iteration:    401, Training Batch Accuracy:  95.3%\n",
      "Optimization Iteration:    501, Training Batch Accuracy:  95.3%\n",
      "Optimization Iteration:    601, Training Batch Accuracy:  93.8%\n",
      "Optimization Iteration:    701, Training Batch Accuracy:  92.2%\n",
      "Optimization Iteration:    801, Training Batch Accuracy:  96.9%\n",
      "Optimization Iteration:    901, Training Batch Accuracy:  96.9%\n",
      "Optimization Iteration:   1001, Training Batch Accuracy:  95.3%\n",
      "Optimization Iteration:   1101, Training Batch Accuracy:  96.9%\n",
      "Optimization Iteration:   1201, Training Batch Accuracy:  92.2%\n",
      "Optimization Iteration:   1301, Training Batch Accuracy: 100.0%\n",
      "Optimization Iteration:   1401, Training Batch Accuracy:  98.4%\n",
      "Optimization Iteration:   1501, Training Batch Accuracy:  95.3%\n",
      "Optimization Iteration:   1601, Training Batch Accuracy:  96.9%\n",
      "Optimization Iteration:   1701, Training Batch Accuracy:  98.4%\n",
      "Optimization Iteration:   1801, Training Batch Accuracy:  98.4%\n",
      "Optimization Iteration:   1901, Training Batch Accuracy:  95.3%\n",
      "Optimization Iteration:   2001, Training Batch Accuracy:  98.4%\n",
      "Optimization Iteration:   2101, Training Batch Accuracy: 100.0%\n",
      "Optimization Iteration:   2201, Training Batch Accuracy:  96.9%\n",
      "Optimization Iteration:   2301, Training Batch Accuracy:  98.4%\n",
      "Optimization Iteration:   2401, Training Batch Accuracy: 100.0%\n",
      "Optimization Iteration:   2501, Training Batch Accuracy:  96.9%\n",
      "Optimization Iteration:   2601, Training Batch Accuracy:  96.9%\n",
      "Optimization Iteration:   2701, Training Batch Accuracy:  93.8%\n",
      "Optimization Iteration:   2801, Training Batch Accuracy: 100.0%\n",
      "Optimization Iteration:   2901, Training Batch Accuracy:  98.4%\n",
      "Optimization Iteration:   3001, Training Batch Accuracy: 100.0%\n",
      "Optimization Iteration:   3101, Training Batch Accuracy:  98.4%\n",
      "Optimization Iteration:   3201, Training Batch Accuracy:  96.9%\n",
      "Optimization Iteration:   3301, Training Batch Accuracy: 100.0%\n",
      "Optimization Iteration:   3401, Training Batch Accuracy:  98.4%\n",
      "Optimization Iteration:   3501, Training Batch Accuracy:  96.9%\n",
      "Time usage: 0:00:36\n",
      "\n"
     ]
    }
   ],
   "source": [
    "if ckpt and len(ckpt.model_checkpoint_path) == num_networks:\n",
    "    print(\"find trained param, jump the training process\")\n",
    "else:\n",
    "    # For each of the neural networks.\n",
    "    for i in range(num_networks):\n",
    "        print(\"Neural network: {0}\".format(i))\n",
    "\n",
    "        # Create a random training-set. Ignore the validation-set.\n",
    "        x_train, y_train, _, _ = random_training_set(combined_images, combined_labels)\n",
    "\n",
    "        # Initialize the variables of the TensorFlow graph.\n",
    "        session.run(tf.global_variables_initializer())\n",
    "\n",
    "        # Optimize the variables using this training-set.\n",
    "        optimize(num_iterations=num_iterations,\n",
    "                 x_train=x_train,\n",
    "                 y_train=y_train)\n",
    "\n",
    "        # Save the optimized variables to disk.\n",
    "        saver.save(sess=session, save_path=get_save_path(i))\n",
    "\n",
    "        # Print newline.\n",
    "        print()"
   ]
  },
  {
   "cell_type": "code",
   "execution_count": 72,
   "metadata": {},
   "outputs": [],
   "source": [
    "batch_size = 256\n",
    "def predict_labels(images):\n",
    "    num_images = len(images)\n",
    "    pred_labels = np.zeros(shape=(num_images, num_classes), dtype=np.float)\n",
    "    i=0\n",
    "    \n",
    "    while i < num_images:\n",
    "        j = min(i + batch_size, num_images)\n",
    "        feed_dict = {x : images[i:j, :]}\n",
    "        pred_labels[i:j] = session.run(y_pred, feed_dict=feed_dict)\n",
    "        i = j\n",
    "        \n",
    "    return pred_labels"
   ]
  },
  {
   "cell_type": "code",
   "execution_count": 73,
   "metadata": {},
   "outputs": [],
   "source": [
    "def correct_prediction(images, labels, cls_true):\n",
    "    # Calculate the predicted labels.\n",
    "    pred_labels = predict_labels(images=images)\n",
    "\n",
    "    # Calculate the predicted class-number for each image.\n",
    "    cls_pred = np.argmax(pred_labels, axis=1)\n",
    "\n",
    "    # Create a boolean array whether each image is correctly classified.\n",
    "    correct = (cls_true == cls_pred)\n",
    "\n",
    "    return correct"
   ]
  },
  {
   "cell_type": "code",
   "execution_count": 74,
   "metadata": {},
   "outputs": [],
   "source": [
    "def test_correct():\n",
    "    return correct_prediction(images = data.test.images,\n",
    "                              labels = data.test.labels,\n",
    "                              cls_true = data.test.cls)"
   ]
  },
  {
   "cell_type": "code",
   "execution_count": 75,
   "metadata": {},
   "outputs": [],
   "source": [
    "def validation_correct():\n",
    "    return correct_prediction(images = data.validation.images,\n",
    "                              labels = data.validation.labels,\n",
    "                              cls_true = data.validation.cls)"
   ]
  },
  {
   "cell_type": "code",
   "execution_count": 76,
   "metadata": {},
   "outputs": [],
   "source": [
    "def get_accuracy(correct):\n",
    "    # When averaging a boolean array, False means 0 and True means 1.\n",
    "    # So we are calculating: number of True / len(correct) which is\n",
    "    # the same as the classification accuracy.\n",
    "    return correct.mean()"
   ]
  },
  {
   "cell_type": "code",
   "execution_count": 77,
   "metadata": {},
   "outputs": [],
   "source": [
    "def ensemble_predictions():\n",
    "    pred_labels = []\n",
    "    test_accuracies = []\n",
    "    val_accuracies = []\n",
    "    \n",
    "    for i in range(num_networks):\n",
    "        saver.restore(sess=session, save_path=get_save_path(i))\n",
    "        \n",
    "        test_acc = get_accuracy(test_correct())\n",
    "        \n",
    "        test_accuracies.append(test_acc)\n",
    "        \n",
    "        val_acc = get_accuracy(validation_correct())\n",
    "        \n",
    "        val_accuracies.append(val_acc)\n",
    "        \n",
    "        msg = \"Network: {0}, Accuracy on Validation-Set: {1: .4f}, Test-Set: {2: .4f}\"\n",
    "        print(msg.format(i, val_acc, test_acc))\n",
    "        \n",
    "        pred = predict_labels(images=data.test.images)\n",
    "        \n",
    "        pred_labels.append(pred)\n",
    "        \n",
    "    return  np.array(pred_labels), \\\n",
    "            np.array(test_accuracies), \\\n",
    "            np.array(val_accuracies)"
   ]
  },
  {
   "cell_type": "code",
   "execution_count": 78,
   "metadata": {},
   "outputs": [
    {
     "name": "stdout",
     "output_type": "stream",
     "text": [
      "INFO:tensorflow:Restoring parameters from checkpoints/network0\n",
      "Network: 0, Accuracy on Validation-Set:  0.9850, Test-Set:  0.9826\n",
      "INFO:tensorflow:Restoring parameters from checkpoints/network1\n",
      "Network: 1, Accuracy on Validation-Set:  0.9864, Test-Set:  0.9841\n",
      "INFO:tensorflow:Restoring parameters from checkpoints/network2\n",
      "Network: 2, Accuracy on Validation-Set:  0.9884, Test-Set:  0.9852\n",
      "INFO:tensorflow:Restoring parameters from checkpoints/network3\n",
      "Network: 3, Accuracy on Validation-Set:  0.9842, Test-Set:  0.9813\n",
      "INFO:tensorflow:Restoring parameters from checkpoints/network4\n",
      "Network: 4, Accuracy on Validation-Set:  0.9858, Test-Set:  0.9832\n",
      "INFO:tensorflow:Restoring parameters from checkpoints/network5\n",
      "Network: 5, Accuracy on Validation-Set:  0.9866, Test-Set:  0.9864\n",
      "INFO:tensorflow:Restoring parameters from checkpoints/network6\n",
      "Network: 6, Accuracy on Validation-Set:  0.9872, Test-Set:  0.9835\n",
      "INFO:tensorflow:Restoring parameters from checkpoints/network7\n",
      "Network: 7, Accuracy on Validation-Set:  0.9830, Test-Set:  0.9814\n",
      "INFO:tensorflow:Restoring parameters from checkpoints/network8\n",
      "Network: 8, Accuracy on Validation-Set:  0.9852, Test-Set:  0.9832\n",
      "INFO:tensorflow:Restoring parameters from checkpoints/network9\n",
      "Network: 9, Accuracy on Validation-Set:  0.9864, Test-Set:  0.9830\n",
      "INFO:tensorflow:Restoring parameters from checkpoints/network10\n",
      "Network: 10, Accuracy on Validation-Set:  0.9890, Test-Set:  0.9842\n",
      "INFO:tensorflow:Restoring parameters from checkpoints/network11\n",
      "Network: 11, Accuracy on Validation-Set:  0.9854, Test-Set:  0.9821\n",
      "INFO:tensorflow:Restoring parameters from checkpoints/network12\n",
      "Network: 12, Accuracy on Validation-Set:  0.9878, Test-Set:  0.9825\n",
      "INFO:tensorflow:Restoring parameters from checkpoints/network13\n",
      "Network: 13, Accuracy on Validation-Set:  0.9846, Test-Set:  0.9811\n",
      "INFO:tensorflow:Restoring parameters from checkpoints/network14\n",
      "Network: 14, Accuracy on Validation-Set:  0.9886, Test-Set:  0.9833\n",
      "INFO:tensorflow:Restoring parameters from checkpoints/network15\n",
      "Network: 15, Accuracy on Validation-Set:  0.9852, Test-Set:  0.9818\n"
     ]
    }
   ],
   "source": [
    "pred_labels, test_accuracies, val_accuracies = ensemble_predictions()"
   ]
  },
  {
   "cell_type": "code",
   "execution_count": 79,
   "metadata": {},
   "outputs": [
    {
     "name": "stdout",
     "output_type": "stream",
     "text": [
      "[[7 7 7 7 7 7 7 7 7 7 7 7 7 7 7 7]\n",
      " [2 2 2 2 2 2 2 2 2 2 2 2 2 2 2 2]\n",
      " [1 1 1 1 1 1 1 1 1 1 1 1 1 1 1 1]]\n"
     ]
    }
   ],
   "source": [
    "ensemble_cls_labels = np.argmax(pred_labels, axis=2)\n",
    "ensemble_cls_labels = ensemble_cls_labels.T\n",
    "print(ensemble_cls_labels[:3])"
   ]
  },
  {
   "cell_type": "code",
   "execution_count": null,
   "metadata": {},
   "outputs": [],
   "source": []
  },
  {
   "cell_type": "code",
   "execution_count": 80,
   "metadata": {},
   "outputs": [],
   "source": [
    "ensemble_cls_labels = np.mean(pred_labels, axis=0)\n",
    "ensemble_cls_pred = np.argmax(ensemble_cls_labels, axis=1)\n",
    "ensemble_correct = ensemble_cls_pred == data.test.cls\n",
    "ensemble_incorrect = np.logical_not(ensemble_correct)"
   ]
  },
  {
   "cell_type": "code",
   "execution_count": 81,
   "metadata": {},
   "outputs": [
    {
     "data": {
      "text/plain": [
       "array([0.9826, 0.9841, 0.9852, 0.9813, 0.9832, 0.9864, 0.9835, 0.9814,\n",
       "       0.9832, 0.983 , 0.9842, 0.9821, 0.9825, 0.9811, 0.9833, 0.9818])"
      ]
     },
     "execution_count": 81,
     "metadata": {},
     "output_type": "execute_result"
    }
   ],
   "source": [
    "test_accuracies"
   ]
  },
  {
   "cell_type": "code",
   "execution_count": 82,
   "metadata": {},
   "outputs": [
    {
     "name": "stdout",
     "output_type": "stream",
     "text": [
      "5\n"
     ]
    }
   ],
   "source": [
    "best_net = np.argmax(test_accuracies)\n",
    "print(best_net)"
   ]
  },
  {
   "cell_type": "code",
   "execution_count": 83,
   "metadata": {},
   "outputs": [],
   "source": [
    "best_net_pred_labels = pred_labels[best_net, :, :]\n",
    "best_net_cls_pred = np.argmax(best_net_pred_labels, axis=1)\n",
    "best_net_correct = (best_net_cls_pred == data.test.cls)\n",
    "best_net_incorrect = np.logical_not(best_net_correct)"
   ]
  },
  {
   "cell_type": "code",
   "execution_count": 84,
   "metadata": {},
   "outputs": [
    {
     "data": {
      "text/plain": [
       "9871"
      ]
     },
     "execution_count": 84,
     "metadata": {},
     "output_type": "execute_result"
    }
   ],
   "source": [
    "np.sum(ensemble_correct)"
   ]
  },
  {
   "cell_type": "code",
   "execution_count": 85,
   "metadata": {},
   "outputs": [
    {
     "data": {
      "text/plain": [
       "9864"
      ]
     },
     "execution_count": 85,
     "metadata": {},
     "output_type": "execute_result"
    }
   ],
   "source": [
    "np.sum(best_net_correct)"
   ]
  },
  {
   "cell_type": "code",
   "execution_count": 86,
   "metadata": {},
   "outputs": [
    {
     "name": "stdout",
     "output_type": "stream",
     "text": [
      "44\n",
      "37\n"
     ]
    }
   ],
   "source": [
    "ensemble_better = np.logical_and(best_net_incorrect, ensemble_correct)\n",
    "print(sum(ensemble_better))\n",
    "best_net_better = np.logical_and(best_net_correct, ensemble_incorrect)\n",
    "print(sum(best_net_better))"
   ]
  },
  {
   "cell_type": "code",
   "execution_count": 87,
   "metadata": {},
   "outputs": [],
   "source": [
    "def get_correct_idx(correct):\n",
    "    return np.arange( correct.shape[0] )[correct]"
   ]
  },
  {
   "cell_type": "code",
   "execution_count": 88,
   "metadata": {},
   "outputs": [
    {
     "name": "stdout",
     "output_type": "stream",
     "text": [
      "[ 591  844 1044 1654 1737 1800 2018 2035 2422 2597 3559 3618 3853 3902\n",
      " 3926 4063 4123 4355 4571 4575 4671 4731 4814 5331 5634 5749 5888 5937\n",
      " 6166 6572 6783 6945 7899 7902 7990 9280 9634 9642 9679 9745 9792 9856\n",
      " 9892 9904]\n"
     ]
    }
   ],
   "source": [
    "ensemble_better_idx = get_correct_idx(ensemble_better)\n",
    "print(ensemble_better_idx)"
   ]
  },
  {
   "cell_type": "code",
   "execution_count": 89,
   "metadata": {},
   "outputs": [
    {
     "name": "stdout",
     "output_type": "stream",
     "text": [
      "[ 613  659  717  938 1181 1260 1681 1717 1878 2043 2098 2109 2293 2462\n",
      " 2927 2952 3060 3289 3558 3796 4065 4199 4256 4601 5642 5973 5981 5997\n",
      " 6505 6576 7434 8325 9024 9664 9692 9768 9982]\n"
     ]
    }
   ],
   "source": [
    "best_net_better_idx = get_correct_idx(best_net_better)\n",
    "print(best_net_better_idx)"
   ]
  },
  {
   "cell_type": "code",
   "execution_count": 90,
   "metadata": {},
   "outputs": [],
   "source": [
    "def plot_images_comparison(idx):\n",
    "    plot_images(images=data.test.images[idx, :],\n",
    "                cls_true=data.test.cls[idx],\n",
    "                ensemble_cls_pred=ensemble_cls_pred[idx],\n",
    "                best_cls_pred=best_net_cls_pred[idx])"
   ]
  },
  {
   "cell_type": "code",
   "execution_count": 91,
   "metadata": {},
   "outputs": [
    {
     "data": {
      "image/png": "[encoded data removed]",
      "text/plain": [
       "<matplotlib.figure.Figure at 0x627d9ef0>"
      ]
     },
     "metadata": {},
     "output_type": "display_data"
    }
   ],
   "source": [
    "plot_images_comparison(ensemble_better_idx[:9])"
   ]
  },
  {
   "cell_type": "code",
   "execution_count": 92,
   "metadata": {},
   "outputs": [
    {
     "data": {
      "image/png": "[encoded data removed]",
      "text/plain": [
       "<matplotlib.figure.Figure at 0x627e7940>"
      ]
     },
     "metadata": {},
     "output_type": "display_data"
    }
   ],
   "source": [
    "plot_images_comparison(best_net_better_idx[:9])"
   ]
  },
  {
   "cell_type": "code",
   "execution_count": 94,
   "metadata": {},
   "outputs": [
    {
     "name": "stdout",
     "output_type": "stream",
     "text": [
      "[ 259  321  445  582  583  613  659  684  717  740  938  947  965 1014\n",
      " 1039 1112 1181 1182 1226 1232 1247 1260 1299 1319 1326 1393 1522 1530\n",
      " 1621 1681 1709 1717 1754 1878 1901 2043 2098 2109 2118 2129 2130 2135\n",
      " 2182 2185 2189 2272 2293 2387 2414 2454 2462 2488 2654 2896 2927 2939\n",
      " 2952 2953 2995 3030 3060 3073 3289 3422 3503 3520 3558 3597 3751 3767\n",
      " 3796 3808 3869 3906 3985 4065 4075 4078 4176 4199 4224 4238 4248 4256\n",
      " 4306 4497 4500 4536 4601 4639 4740 4761 4807 4823 4880 4956 4978 5600\n",
      " 5642 5842 5955 5973 5981 5997 6091 6505 6555 6576 6597 6625 6651 7434\n",
      " 8094 8325 8408 9009 9015 9019 9024 9587 9664 9692 9729 9768 9770 9811\n",
      " 9839 9888 9982]\n"
     ]
    }
   ],
   "source": [
    "ensemble_incorrect_idx = get_correct_idx(ensemble_incorrect)\n",
    "print(ensemble_incorrect_idx)"
   ]
  },
  {
   "cell_type": "code",
   "execution_count": 95,
   "metadata": {},
   "outputs": [
    {
     "data": {
      "image/png": "[encoded data removed]",
      "text/plain": [
       "<matplotlib.figure.Figure at 0x44191908>"
      ]
     },
     "metadata": {},
     "output_type": "display_data"
    },
    {
     "data": {
      "image/png": "[encoded data removed]",
      "text/plain": [
       "<matplotlib.figure.Figure at 0x5dae2f28>"
      ]
     },
     "metadata": {},
     "output_type": "display_data"
    },
    {
     "data": {
      "image/png": "[encoded data removed]",
      "text/plain": [
       "<matplotlib.figure.Figure at 0x4451fac8>"
      ]
     },
     "metadata": {},
     "output_type": "display_data"
    },
    {
     "data": {
      "image/png": "[encoded data removed]",
      "text/plain": [
       "<matplotlib.figure.Figure at 0x627bae48>"
      ]
     },
     "metadata": {},
     "output_type": "display_data"
    },
    {
     "data": {
      "image/png": "[encoded data removed]",
      "text/plain": [
       "<matplotlib.figure.Figure at 0x42b7f048>"
      ]
     },
     "metadata": {},
     "output_type": "display_data"
    }
   ],
   "source": [
    "for i in range(0,5):\n",
    "    plot_images_comparison(ensemble_incorrect_idx[i*9 : i*9 + 9])"
   ]
  },
  {
   "cell_type": "code",
   "execution_count": null,
   "metadata": {},
   "outputs": [],
   "source": []
  }
 ],
 "metadata": {
  "kernelspec": {
   "display_name": "Python 3",
   "language": "python",
   "name": "python3"
  },
  "language_info": {
   "codemirror_mode": {
    "name": "ipython",
    "version": 3
   },
   "file_extension": ".py",
   "mimetype": "text/x-python",
   "name": "python",
   "nbconvert_exporter": "python",
   "pygments_lexer": "ipython3",
   "version": "3.6.4"
  }
 },
 "nbformat": 4,
 "nbformat_minor": 2
}
