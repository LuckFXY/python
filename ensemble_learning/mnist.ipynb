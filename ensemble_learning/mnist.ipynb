{
 "cells": [
  {
   "cell_type": "code",
   "execution_count": 1,
   "metadata": {},
   "outputs": [],
   "source": [
    "import prettytensor as pt"
   ]
  },
  {
   "cell_type": "code",
   "execution_count": 2,
   "metadata": {},
   "outputs": [
    {
     "name": "stdout",
     "output_type": "stream",
     "text": [
      "Extracting data/MNIST/train-images-idx3-ubyte.gz\n",
      "Extracting data/MNIST/train-labels-idx1-ubyte.gz\n",
      "Extracting data/MNIST/t10k-images-idx3-ubyte.gz\n",
      "Extracting data/MNIST/t10k-labels-idx1-ubyte.gz\n"
     ]
    }
   ],
   "source": [
    "from tensorflow.examples.tutorials.mnist import input_data\n",
    "data = input_data.read_data_sets('data/MNIST/', one_hot=True)"
   ]
  },
  {
   "cell_type": "code",
   "execution_count": 3,
   "metadata": {},
   "outputs": [
    {
     "name": "stdout",
     "output_type": "stream",
     "text": [
      "Size of:\n",
      "- Training-set:\t\t55000\n",
      "- Test-set:\t\t10000\n",
      "- Validation-set:\t5000\n"
     ]
    }
   ],
   "source": [
    "print(\"Size of:\")\n",
    "print(\"- Training-set:\\t\\t{}\".format(len(data.train.labels)))\n",
    "print(\"- Test-set:\\t\\t{}\".format(len(data.test.labels)))\n",
    "print(\"- Validation-set:\\t{}\".format(len(data.validation.labels)))"
   ]
  },
  {
   "cell_type": "code",
   "execution_count": 4,
   "metadata": {},
   "outputs": [],
   "source": [
    "%matplotlib inline\n",
    "import matplotlib.pyplot as plt\n",
    "import tensorflow as tf\n",
    "import numpy as np\n",
    "from sklearn.metrics import confusion_matrix\n",
    "import time\n",
    "from datetime import timedelta\n",
    "import math\n",
    "import os"
   ]
  },
  {
   "cell_type": "code",
   "execution_count": 5,
   "metadata": {},
   "outputs": [],
   "source": [
    "data.test.cls = np.argmax(data.test.labels, axis=1)\n",
    "data.validation.cls = np.argmax(data.validation.labels, axis=1)"
   ]
  },
  {
   "cell_type": "code",
   "execution_count": 6,
   "metadata": {},
   "outputs": [],
   "source": [
    "combined_images = np.concatenate([data.train.images, data.validation.images], axis=0)\n",
    "combined_labels = np.concatenate([data.train.labels, data.validation.labels], axis=0)"
   ]
  },
  {
   "cell_type": "code",
   "execution_count": 7,
   "metadata": {},
   "outputs": [
    {
     "name": "stdout",
     "output_type": "stream",
     "text": [
      "60000\n"
     ]
    }
   ],
   "source": [
    "combined_size = len(combined_images)\n",
    "print(combined_size)"
   ]
  },
  {
   "cell_type": "code",
   "execution_count": 8,
   "metadata": {},
   "outputs": [
    {
     "name": "stdout",
     "output_type": "stream",
     "text": [
      "12000\n"
     ]
    }
   ],
   "source": [
    "train_size = int(combined_size * 0.8)\n",
    "validation_size = combined_size - train_size\n",
    "print(validation_size)"
   ]
  },
  {
   "cell_type": "code",
   "execution_count": 9,
   "metadata": {},
   "outputs": [],
   "source": [
    "def random_training_set(combined_images, combined_labels, rate=0.8):\n",
    "    combined_size = len(combined_images)\n",
    "    idx = np.random.permutation(combined_size)\n",
    "    \n",
    "    train_size = int(combined_size * rate)\n",
    "    idx_train = idx[0:train_size]\n",
    "    idx_validation = idx[train_size:]\n",
    "    \n",
    "    x_train = combined_images[idx_train, :]\n",
    "    y_train = combined_labels[idx_train, :]\n",
    "    \n",
    "    x_validation = combined_images[idx_validation, :]\n",
    "    y_validation = combined_images[idx_validation, :]\n",
    "    \n",
    "    return x_train, y_train, x_validation, y_validation"
   ]
  },
  {
   "cell_type": "code",
   "execution_count": 10,
   "metadata": {},
   "outputs": [],
   "source": [
    "img_size = 28\n",
    "\n",
    "# Images are stored in one-dimensional arrays of this length.\n",
    "img_size_flat = img_size * img_size\n",
    "\n",
    "# Tuple with height and width of images used to reshape arrays.\n",
    "img_shape = (img_size, img_size)\n",
    "\n",
    "# Number of colour channels for the images: 1 channel for gray-scale.\n",
    "num_channels = 1\n",
    "\n",
    "# Number of classes, one class for each of 10 digits.\n",
    "num_classes = 10"
   ]
  },
  {
   "cell_type": "code",
   "execution_count": 11,
   "metadata": {},
   "outputs": [],
   "source": [
    "def plot_images(images,\n",
    "                cls_true,\n",
    "                ensemble_cls_pred = None,\n",
    "                best_cls_pred = None\n",
    "               ):\n",
    "    assert len(images) == len(cls_true)\n",
    "    \n",
    "    fig, axes = plt.subplots(3, 3)\n",
    "    \n",
    "    if ensemble_cls_pred is None:\n",
    "        hspace = 0.3\n",
    "    else:\n",
    "        hspace = 1.0\n",
    "    fig.subplots_adjust(hspace = hspace, wspace=0.3)    \n",
    "    \n",
    "    for i, ax in enumerate(axes.flat):\n",
    "        if i < len(images):\n",
    "            ax.imshow(images[i].reshape(img_shape), cmap='binary')\n",
    "            \n",
    "            if ensemble_cls_pred is None:\n",
    "                xlabel = \"True: {0}\".format(cls_true[i])\n",
    "                \n",
    "            else:\n",
    "                msg = \"True: {0}\\nEnsemble: {1}\\nBest Net: {2}\"\n",
    "                xlabel = msg.format(cls_true[i],\n",
    "                                    ensemble_cls_pred[i],\n",
    "                                    best_cls_pred[i]\n",
    "                                   )\n",
    "            ax.set_xlabel(xlabel)\n",
    "            \n",
    "        ax.set_xticks([])\n",
    "        ax.set_yticks([])\n",
    "        \n",
    "    plt.show()"
   ]
  },
  {
   "cell_type": "code",
   "execution_count": 12,
   "metadata": {},
   "outputs": [
    {
     "data": {
      "image/png": "[encoded data removed]",
      "text/plain": [
       "<matplotlib.figure.Figure at 0x17a2ea90>"
      ]
     },
     "metadata": {},
     "output_type": "display_data"
    }
   ],
   "source": [
    "images = data.test.images[0:9]\n",
    "cls_true = data.test.cls[0:9]\n",
    "plot_images(images = images, cls_true=cls_true)"
   ]
  },
  {
   "cell_type": "code",
   "execution_count": 13,
   "metadata": {},
   "outputs": [],
   "source": [
    "x = tf.placeholder(tf.float32, shape=[None, img_size_flat], name='x')"
   ]
  },
  {
   "cell_type": "code",
   "execution_count": 14,
   "metadata": {},
   "outputs": [],
   "source": [
    "x_image = tf.reshape(x, [-1, img_size, img_size, num_channels])"
   ]
  },
  {
   "cell_type": "code",
   "execution_count": 15,
   "metadata": {},
   "outputs": [],
   "source": [
    "y_true = tf.placeholder(tf.float32, shape=[None, 10], name='y_true')"
   ]
  },
  {
   "cell_type": "code",
   "execution_count": 16,
   "metadata": {},
   "outputs": [],
   "source": [
    "y_true_cls = tf.argmax(y_true, axis=1)"
   ]
  },
  {
   "cell_type": "code",
   "execution_count": 17,
   "metadata": {},
   "outputs": [],
   "source": [
    "x_pretty = pt.wrap(x_image)"
   ]
  },
  {
   "cell_type": "code",
   "execution_count": 18,
   "metadata": {},
   "outputs": [
    {
     "name": "stdout",
     "output_type": "stream",
     "text": [
      "WARNING:tensorflow:From C:\\ProgramData\\Anaconda3\\envs\\tensorflow-gpu\\lib\\site-packages\\tensorflow\\contrib\\nn\\python\\ops\\cross_entropy.py:68: softmax_cross_entropy_with_logits (from tensorflow.python.ops.nn_ops) is deprecated and will be removed in a future version.\n",
      "Instructions for updating:\n",
      "\n",
      "Future major versions of TensorFlow will allow gradients to flow\n",
      "into the labels input on backprop by default.\n",
      "\n",
      "See tf.nn.softmax_cross_entropy_with_logits_v2.\n",
      "\n"
     ]
    }
   ],
   "source": [
    "with pt.defaults_scope(activation_fn=tf.nn.relu):\n",
    "    y_pred, loss = x_pretty.\\\n",
    "    conv2d(kernel=5, depth=16, name='conv1').\\\n",
    "    max_pool(kernel=2, stride=2).\\\n",
    "    conv2d(kernel=5, depth=36, name='conv2').\\\n",
    "    max_pool(kernel=2, stride=2).\\\n",
    "    flatten().\\\n",
    "    fully_connected(size=128, name='fc1').\\\n",
    "    softmax_classifier(num_classes=num_classes, labels=y_true)"
   ]
  },
  {
   "cell_type": "code",
   "execution_count": 19,
   "metadata": {},
   "outputs": [],
   "source": [
    "optimizer = tf.train.AdamOptimizer(learning_rate=1e-4).minimize(loss)"
   ]
  },
  {
   "cell_type": "code",
   "execution_count": 20,
   "metadata": {},
   "outputs": [
    {
     "name": "stdout",
     "output_type": "stream",
     "text": [
      "WARNING:tensorflow:From <ipython-input-20-1b869074280b>:1: calling argmax (from tensorflow.python.ops.math_ops) with dimension is deprecated and will be removed in a future version.\n",
      "Instructions for updating:\n",
      "Use the `axis` argument instead\n"
     ]
    }
   ],
   "source": [
    "y_pred_cls = tf.argmax(y_pred, dimension=1)"
   ]
  },
  {
   "cell_type": "code",
   "execution_count": 21,
   "metadata": {},
   "outputs": [],
   "source": [
    "correct_prediction = tf.equal(y_pred_cls, y_true_cls)\n",
    "accuracy = tf.reduce_mean(tf.cast(correct_prediction, tf.float32))"
   ]
  },
  {
   "cell_type": "code",
   "execution_count": 22,
   "metadata": {},
   "outputs": [],
   "source": [
    "saver = tf.train.Saver(max_to_keep=100)\n",
    "save_dir = 'checkpoints/'\n",
    "if not os.path.exists(save_dir):\n",
    "    os.makedirs(save_dir)"
   ]
  },
  {
   "cell_type": "code",
   "execution_count": 23,
   "metadata": {},
   "outputs": [],
   "source": [
    "def get_save_path(net_number):\n",
    "    return save_dir + 'network' + str(net_number)"
   ]
  },
  {
   "cell_type": "code",
   "execution_count": 24,
   "metadata": {},
   "outputs": [],
   "source": [
    "session = tf.Session()"
   ]
  },
  {
   "cell_type": "code",
   "execution_count": 25,
   "metadata": {},
   "outputs": [],
   "source": [
    "def init_variables():\n",
    "    session.run(tf.initialize_all_variables())"
   ]
  },
  {
   "cell_type": "code",
   "execution_count": 26,
   "metadata": {},
   "outputs": [],
   "source": [
    "train_batch_size = 64"
   ]
  },
  {
   "cell_type": "code",
   "execution_count": 27,
   "metadata": {},
   "outputs": [],
   "source": [
    "num_networks = 5\n",
    "num_iterations = 10000"
   ]
  },
  {
   "cell_type": "code",
   "execution_count": 28,
   "metadata": {},
   "outputs": [],
   "source": [
    "x_train, y_train, x_validation, y_validation = random_training_set(combined_images, combined_labels, rate=0.8)"
   ]
  },
  {
   "cell_type": "code",
   "execution_count": 29,
   "metadata": {},
   "outputs": [],
   "source": [
    "def random_batch(x_train, y_train, net_id):\n",
    "    # Total number of images in the training-set.\n",
    "    \n",
    "    block_size = int(len(x_train) / num_networks)\n",
    "    \n",
    "    smaple_idx = np.arange(net_id * block_size, (net_id+1) * block_size)\n",
    "    num_images = len(smaple_idx)\n",
    "    \n",
    "    #print(smaple_idx)\n",
    "    \n",
    "    # Create a random index into the training-set.\n",
    "    idx = np.random.choice(smaple_idx,\n",
    "                           size=train_batch_size,\n",
    "                           replace=False)\n",
    "    #print(idx)\n",
    "    # Use the random index to select random images and labels.\n",
    "    x_batch = x_train[idx, :]  # Images.\n",
    "    y_batch = y_train[idx, :]  # Labels.\n",
    "\n",
    "    # Return the batch.\n",
    "    return x_batch, y_batch"
   ]
  },
  {
   "cell_type": "code",
   "execution_count": 30,
   "metadata": {},
   "outputs": [
    {
     "name": "stdout",
     "output_type": "stream",
     "text": [
      "(64, 784)\n"
     ]
    }
   ],
   "source": [
    "xx, yy = random_batch(x_train, y_train, net_id=1)\n",
    "print(xx.shape)"
   ]
  },
  {
   "cell_type": "code",
   "execution_count": 31,
   "metadata": {},
   "outputs": [],
   "source": [
    "\n",
    "def optimize(num_iterations, x_train, y_train, net_id):\n",
    "    # Start-time used for printing time-usage below.\n",
    "    start_time = time.time()\n",
    "\n",
    "    for i in range(num_iterations):\n",
    "\n",
    "        # Get a batch of training examples.\n",
    "        # x_batch now holds a batch of images and\n",
    "        # y_true_batch are the true labels for those images.\n",
    "        x_batch, y_true_batch = random_batch(x_train, y_train, net_id)\n",
    "\n",
    "        #print(x_batch.shape)\n",
    "        #print(y_true_batch.shape)\n",
    "        # Put the batch into a dict with the proper names\n",
    "        # for placeholder variables in the TensorFlow graph.\n",
    "        feed_dict_train = {x: x_batch,\n",
    "                           y_true: y_true_batch}\n",
    "\n",
    "        # Run the optimizer using this batch of training data.\n",
    "        # TensorFlow assigns the variables in feed_dict_train\n",
    "        # to the placeholder variables and then runs the optimizer.\n",
    "        session.run(optimizer, feed_dict=feed_dict_train)\n",
    "\n",
    "        # Print status every 100 iterations and after last iteration.\n",
    "        if i % 1000 == 0:\n",
    "\n",
    "            # Calculate the accuracy on the training-batch.\n",
    "            acc = session.run(accuracy, feed_dict=feed_dict_train)\n",
    "            \n",
    "            # Status-message for printing.\n",
    "            msg = \"Optimization Iteration: {0:>6}, Training Batch Accuracy: {1:>6.1%}\"\n",
    "\n",
    "            # Print it.\n",
    "            print(msg.format(i + 1, acc))\n",
    "\n",
    "    # Ending time.\n",
    "    end_time = time.time()\n",
    "\n",
    "    # Difference between start and end-times.\n",
    "    time_dif = end_time - start_time\n",
    "\n",
    "    # Print the time-usage.\n",
    "    print(\"Time usage: \" + str(timedelta(seconds=int(round(time_dif)))))"
   ]
  },
  {
   "cell_type": "code",
   "execution_count": 32,
   "metadata": {},
   "outputs": [
    {
     "name": "stdout",
     "output_type": "stream",
     "text": [
      "./checkpoints\n",
      "True\n",
      "model_checkpoint_path: \"./checkpoints\\\\network49\"\n",
      "all_model_checkpoint_paths: \"./checkpoints\\\\network0\"\n",
      "all_model_checkpoint_paths: \"./checkpoints\\\\network1\"\n",
      "all_model_checkpoint_paths: \"./checkpoints\\\\network2\"\n",
      "all_model_checkpoint_paths: \"./checkpoints\\\\network3\"\n",
      "all_model_checkpoint_paths: \"./checkpoints\\\\network4\"\n",
      "all_model_checkpoint_paths: \"./checkpoints\\\\network5\"\n",
      "all_model_checkpoint_paths: \"./checkpoints\\\\network6\"\n",
      "all_model_checkpoint_paths: \"./checkpoints\\\\network7\"\n",
      "all_model_checkpoint_paths: \"./checkpoints\\\\network8\"\n",
      "all_model_checkpoint_paths: \"./checkpoints\\\\network9\"\n",
      "all_model_checkpoint_paths: \"./checkpoints\\\\network10\"\n",
      "all_model_checkpoint_paths: \"./checkpoints\\\\network11\"\n",
      "all_model_checkpoint_paths: \"./checkpoints\\\\network12\"\n",
      "all_model_checkpoint_paths: \"./checkpoints\\\\network13\"\n",
      "all_model_checkpoint_paths: \"./checkpoints\\\\network14\"\n",
      "all_model_checkpoint_paths: \"./checkpoints\\\\network15\"\n",
      "all_model_checkpoint_paths: \"./checkpoints\\\\network16\"\n",
      "all_model_checkpoint_paths: \"./checkpoints\\\\network17\"\n",
      "all_model_checkpoint_paths: \"./checkpoints\\\\network18\"\n",
      "all_model_checkpoint_paths: \"./checkpoints\\\\network19\"\n",
      "all_model_checkpoint_paths: \"./checkpoints\\\\network20\"\n",
      "all_model_checkpoint_paths: \"./checkpoints\\\\network21\"\n",
      "all_model_checkpoint_paths: \"./checkpoints\\\\network22\"\n",
      "all_model_checkpoint_paths: \"./checkpoints\\\\network23\"\n",
      "all_model_checkpoint_paths: \"./checkpoints\\\\network24\"\n",
      "all_model_checkpoint_paths: \"./checkpoints\\\\network25\"\n",
      "all_model_checkpoint_paths: \"./checkpoints\\\\network26\"\n",
      "all_model_checkpoint_paths: \"./checkpoints\\\\network27\"\n",
      "all_model_checkpoint_paths: \"./checkpoints\\\\network28\"\n",
      "all_model_checkpoint_paths: \"./checkpoints\\\\network29\"\n",
      "all_model_checkpoint_paths: \"./checkpoints\\\\network30\"\n",
      "all_model_checkpoint_paths: \"./checkpoints\\\\network31\"\n",
      "all_model_checkpoint_paths: \"./checkpoints\\\\network32\"\n",
      "all_model_checkpoint_paths: \"./checkpoints\\\\network33\"\n",
      "all_model_checkpoint_paths: \"./checkpoints\\\\network34\"\n",
      "all_model_checkpoint_paths: \"./checkpoints\\\\network35\"\n",
      "all_model_checkpoint_paths: \"./checkpoints\\\\network36\"\n",
      "all_model_checkpoint_paths: \"./checkpoints\\\\network37\"\n",
      "all_model_checkpoint_paths: \"./checkpoints\\\\network38\"\n",
      "all_model_checkpoint_paths: \"./checkpoints\\\\network39\"\n",
      "all_model_checkpoint_paths: \"./checkpoints\\\\network40\"\n",
      "all_model_checkpoint_paths: \"./checkpoints\\\\network41\"\n",
      "all_model_checkpoint_paths: \"./checkpoints\\\\network42\"\n",
      "all_model_checkpoint_paths: \"./checkpoints\\\\network43\"\n",
      "all_model_checkpoint_paths: \"./checkpoints\\\\network44\"\n",
      "all_model_checkpoint_paths: \"./checkpoints\\\\network45\"\n",
      "all_model_checkpoint_paths: \"./checkpoints\\\\network46\"\n",
      "all_model_checkpoint_paths: \"./checkpoints\\\\network47\"\n",
      "all_model_checkpoint_paths: \"./checkpoints\\\\network48\"\n",
      "all_model_checkpoint_paths: \"./checkpoints\\\\network49\"\n",
      "\n",
      "['./checkpoints\\\\network0', './checkpoints\\\\network1', './checkpoints\\\\network2', './checkpoints\\\\network3', './checkpoints\\\\network4', './checkpoints\\\\network5', './checkpoints\\\\network6', './checkpoints\\\\network7', './checkpoints\\\\network8', './checkpoints\\\\network9', './checkpoints\\\\network10', './checkpoints\\\\network11', './checkpoints\\\\network12', './checkpoints\\\\network13', './checkpoints\\\\network14', './checkpoints\\\\network15', './checkpoints\\\\network16', './checkpoints\\\\network17', './checkpoints\\\\network18', './checkpoints\\\\network19', './checkpoints\\\\network20', './checkpoints\\\\network21', './checkpoints\\\\network22', './checkpoints\\\\network23', './checkpoints\\\\network24', './checkpoints\\\\network25', './checkpoints\\\\network26', './checkpoints\\\\network27', './checkpoints\\\\network28', './checkpoints\\\\network29', './checkpoints\\\\network30', './checkpoints\\\\network31', './checkpoints\\\\network32', './checkpoints\\\\network33', './checkpoints\\\\network34', './checkpoints\\\\network35', './checkpoints\\\\network36', './checkpoints\\\\network37', './checkpoints\\\\network38', './checkpoints\\\\network39', './checkpoints\\\\network40', './checkpoints\\\\network41', './checkpoints\\\\network42', './checkpoints\\\\network43', './checkpoints\\\\network44', './checkpoints\\\\network45', './checkpoints\\\\network46', './checkpoints\\\\network47', './checkpoints\\\\network48', './checkpoints\\\\network49']\n",
      "./checkpoints\\network49\n"
     ]
    }
   ],
   "source": [
    "checkpoint_dir = './checkpoints'\n",
    "print(checkpoint_dir)\n",
    "print(os.path.exists(checkpoint_dir))\n",
    "ckpt = tf.train.get_checkpoint_state(checkpoint_dir)\n",
    "print(ckpt)\n",
    "print(ckpt.all_model_checkpoint_paths)\n",
    "print(ckpt.model_checkpoint_path)"
   ]
  },
  {
   "cell_type": "code",
   "execution_count": 33,
   "metadata": {
    "scrolled": true
   },
   "outputs": [
    {
     "name": "stdout",
     "output_type": "stream",
     "text": [
      "Neural network: 0\n",
      "Optimization Iteration:      1, Training Batch Accuracy:  15.6%\n",
      "Optimization Iteration:   1001, Training Batch Accuracy:  98.4%\n",
      "Optimization Iteration:   2001, Training Batch Accuracy: 100.0%\n",
      "Optimization Iteration:   3001, Training Batch Accuracy: 100.0%\n",
      "Optimization Iteration:   4001, Training Batch Accuracy: 100.0%\n",
      "Optimization Iteration:   5001, Training Batch Accuracy: 100.0%\n",
      "Optimization Iteration:   6001, Training Batch Accuracy: 100.0%\n",
      "Optimization Iteration:   7001, Training Batch Accuracy: 100.0%\n",
      "Optimization Iteration:   8001, Training Batch Accuracy: 100.0%\n",
      "Optimization Iteration:   9001, Training Batch Accuracy: 100.0%\n",
      "Time usage: 0:01:25\n",
      "\n",
      "Neural network: 1\n",
      "Optimization Iteration:      1, Training Batch Accuracy:  26.6%\n",
      "Optimization Iteration:   1001, Training Batch Accuracy:  96.9%\n",
      "Optimization Iteration:   2001, Training Batch Accuracy: 100.0%\n",
      "Optimization Iteration:   3001, Training Batch Accuracy:  98.4%\n",
      "Optimization Iteration:   4001, Training Batch Accuracy: 100.0%\n",
      "Optimization Iteration:   5001, Training Batch Accuracy: 100.0%\n",
      "Optimization Iteration:   6001, Training Batch Accuracy: 100.0%\n",
      "Optimization Iteration:   7001, Training Batch Accuracy: 100.0%\n",
      "Optimization Iteration:   8001, Training Batch Accuracy: 100.0%\n",
      "Optimization Iteration:   9001, Training Batch Accuracy: 100.0%\n",
      "Time usage: 0:01:23\n",
      "\n",
      "Neural network: 2\n",
      "Optimization Iteration:      1, Training Batch Accuracy:  15.6%\n",
      "Optimization Iteration:   1001, Training Batch Accuracy: 100.0%\n",
      "Optimization Iteration:   2001, Training Batch Accuracy: 100.0%\n",
      "Optimization Iteration:   3001, Training Batch Accuracy: 100.0%\n",
      "Optimization Iteration:   4001, Training Batch Accuracy: 100.0%\n",
      "Optimization Iteration:   5001, Training Batch Accuracy: 100.0%\n",
      "Optimization Iteration:   6001, Training Batch Accuracy: 100.0%\n",
      "Optimization Iteration:   7001, Training Batch Accuracy: 100.0%\n",
      "Optimization Iteration:   8001, Training Batch Accuracy: 100.0%\n",
      "Optimization Iteration:   9001, Training Batch Accuracy: 100.0%\n",
      "Time usage: 0:01:21\n",
      "\n",
      "Neural network: 3\n",
      "Optimization Iteration:      1, Training Batch Accuracy:   7.8%\n",
      "Optimization Iteration:   1001, Training Batch Accuracy: 100.0%\n",
      "Optimization Iteration:   2001, Training Batch Accuracy:  98.4%\n",
      "Optimization Iteration:   3001, Training Batch Accuracy:  98.4%\n",
      "Optimization Iteration:   4001, Training Batch Accuracy: 100.0%\n",
      "Optimization Iteration:   5001, Training Batch Accuracy: 100.0%\n",
      "Optimization Iteration:   6001, Training Batch Accuracy: 100.0%\n",
      "Optimization Iteration:   7001, Training Batch Accuracy: 100.0%\n",
      "Optimization Iteration:   8001, Training Batch Accuracy: 100.0%\n",
      "Optimization Iteration:   9001, Training Batch Accuracy: 100.0%\n",
      "Time usage: 0:01:21\n",
      "\n",
      "Neural network: 4\n",
      "Optimization Iteration:      1, Training Batch Accuracy:   3.1%\n",
      "Optimization Iteration:   1001, Training Batch Accuracy:  96.9%\n",
      "Optimization Iteration:   2001, Training Batch Accuracy: 100.0%\n",
      "Optimization Iteration:   3001, Training Batch Accuracy: 100.0%\n",
      "Optimization Iteration:   4001, Training Batch Accuracy: 100.0%\n",
      "Optimization Iteration:   5001, Training Batch Accuracy: 100.0%\n",
      "Optimization Iteration:   6001, Training Batch Accuracy: 100.0%\n",
      "Optimization Iteration:   7001, Training Batch Accuracy: 100.0%\n",
      "Optimization Iteration:   8001, Training Batch Accuracy: 100.0%\n",
      "Optimization Iteration:   9001, Training Batch Accuracy: 100.0%\n",
      "Time usage: 0:01:17\n",
      "\n"
     ]
    }
   ],
   "source": [
    "if ckpt and len(ckpt.model_checkpoint_path) == num_networks:\n",
    "    print(\"find trained param, jump the training process\")\n",
    "    checkpoint_dir = './checkpoints'\n",
    "\n",
    "else:\n",
    "    # For each of the neural networks.\n",
    "    for i in range(num_networks):\n",
    "        print(\"Neural network: {0}\".format(i))\n",
    "\n",
    "        # Create a random training-set. Ignore the validation-set.\n",
    "        #x_train, y_train, _, _ = random_training_set(combined_images, combined_labels, net_id= i )\n",
    "\n",
    "        # Initialize the variables of the TensorFlow graph.\n",
    "        session.run(tf.global_variables_initializer())\n",
    "\n",
    "        # Optimize the variables using this training-set.\n",
    "        optimize(num_iterations=num_iterations,\n",
    "                 x_train=x_train,\n",
    "                 y_train=y_train,\n",
    "                 net_id=i)\n",
    "\n",
    "        # Save the optimized variables to disk.\n",
    "        saver.save(sess=session, save_path=get_save_path(i))\n",
    "\n",
    "        # Print newline.\n",
    "        print()"
   ]
  },
  {
   "cell_type": "code",
   "execution_count": 34,
   "metadata": {},
   "outputs": [],
   "source": [
    "batch_size = 256\n",
    "def predict_labels(images):\n",
    "    num_images = len(images)\n",
    "    pred_labels = np.zeros(shape=(num_images, num_classes), dtype=np.float)\n",
    "    i=0\n",
    "    \n",
    "    while i < num_images:\n",
    "        j = min(i + batch_size, num_images)\n",
    "        feed_dict = {x : images[i:j, :]}\n",
    "        pred_labels[i:j] = session.run(y_pred, feed_dict=feed_dict)\n",
    "        i = j\n",
    "        \n",
    "    return pred_labels"
   ]
  },
  {
   "cell_type": "code",
   "execution_count": 35,
   "metadata": {},
   "outputs": [],
   "source": [
    "def correct_prediction(images, labels, cls_true):\n",
    "    # Calculate the predicted labels.\n",
    "    pred_labels = predict_labels(images=images)\n",
    "\n",
    "    # Calculate the predicted class-number for each image.\n",
    "    cls_pred = np.argmax(pred_labels, axis=1)\n",
    "\n",
    "    # Create a boolean array whether each image is correctly classified.\n",
    "    correct = (cls_true == cls_pred)\n",
    "\n",
    "    return correct"
   ]
  },
  {
   "cell_type": "code",
   "execution_count": 36,
   "metadata": {},
   "outputs": [],
   "source": [
    "def test_correct():\n",
    "    return correct_prediction(images = data.test.images,\n",
    "                              labels = data.test.labels,\n",
    "                              cls_true = data.test.cls)"
   ]
  },
  {
   "cell_type": "code",
   "execution_count": 37,
   "metadata": {},
   "outputs": [],
   "source": [
    "def validation_correct():\n",
    "    return correct_prediction(images = data.validation.images,\n",
    "                              labels = data.validation.labels,\n",
    "                              cls_true = data.validation.cls)"
   ]
  },
  {
   "cell_type": "code",
   "execution_count": 38,
   "metadata": {},
   "outputs": [],
   "source": [
    "def get_accuracy(correct):\n",
    "    # When averaging a boolean array, False means 0 and True means 1.\n",
    "    # So we are calculating: number of True / len(correct) which is\n",
    "    # the same as the classification accuracy.\n",
    "    return correct.mean()"
   ]
  },
  {
   "cell_type": "code",
   "execution_count": 39,
   "metadata": {},
   "outputs": [],
   "source": [
    "def ensemble_predictions():\n",
    "    pred_labels = []\n",
    "    test_accuracies = []\n",
    "    val_accuracies = []\n",
    "    \n",
    "    for i in range(num_networks):\n",
    "        saver.restore(sess=session, save_path=get_save_path(i))\n",
    "        \n",
    "        test_acc = get_accuracy(test_correct())\n",
    "        \n",
    "        test_accuracies.append(test_acc)\n",
    "        \n",
    "        val_acc = get_accuracy(validation_correct())\n",
    "        \n",
    "        val_accuracies.append(val_acc)\n",
    "        \n",
    "        msg = \"Network: {0}, Accuracy on Validation-Set: {1: .4f}, Test-Set: {2: .4f}\"\n",
    "        print(msg.format(i, val_acc, test_acc))\n",
    "        \n",
    "        pred = predict_labels(images=data.test.images)\n",
    "        \n",
    "        pred_labels.append(pred)\n",
    "        \n",
    "    return  np.array(pred_labels), \\\n",
    "            np.array(test_accuracies), \\\n",
    "            np.array(val_accuracies)"
   ]
  },
  {
   "cell_type": "code",
   "execution_count": 40,
   "metadata": {},
   "outputs": [
    {
     "name": "stdout",
     "output_type": "stream",
     "text": [
      "INFO:tensorflow:Restoring parameters from checkpoints/network0\n",
      "Network: 0, Accuracy on Validation-Set:  0.9880, Test-Set:  0.9839\n",
      "INFO:tensorflow:Restoring parameters from checkpoints/network1\n",
      "Network: 1, Accuracy on Validation-Set:  0.9836, Test-Set:  0.9815\n",
      "INFO:tensorflow:Restoring parameters from checkpoints/network2\n",
      "Network: 2, Accuracy on Validation-Set:  0.9848, Test-Set:  0.9839\n",
      "INFO:tensorflow:Restoring parameters from checkpoints/network3\n",
      "Network: 3, Accuracy on Validation-Set:  0.9866, Test-Set:  0.9833\n",
      "INFO:tensorflow:Restoring parameters from checkpoints/network4\n",
      "Network: 4, Accuracy on Validation-Set:  0.9850, Test-Set:  0.9820\n"
     ]
    }
   ],
   "source": [
    "pred_labels, test_accuracies, val_accuracies = ensemble_predictions()"
   ]
  },
  {
   "cell_type": "code",
   "execution_count": 41,
   "metadata": {},
   "outputs": [
    {
     "name": "stdout",
     "output_type": "stream",
     "text": [
      "[[7 7 7 7 7]\n",
      " [2 2 2 2 2]\n",
      " [1 1 1 1 1]]\n"
     ]
    }
   ],
   "source": [
    "ensemble_cls_labels = np.argmax(pred_labels, axis=2)\n",
    "ensemble_cls_labels = ensemble_cls_labels.T\n",
    "print(ensemble_cls_labels[:3])"
   ]
  },
  {
   "cell_type": "code",
   "execution_count": null,
   "metadata": {},
   "outputs": [],
   "source": []
  },
  {
   "cell_type": "code",
   "execution_count": 42,
   "metadata": {},
   "outputs": [],
   "source": [
    "ensemble_cls_labels = np.mean(pred_labels, axis=0)\n",
    "ensemble_cls_pred = np.argmax(ensemble_cls_labels, axis=1)\n",
    "ensemble_correct = ensemble_cls_pred == data.test.cls\n",
    "ensemble_incorrect = np.logical_not(ensemble_correct)"
   ]
  },
  {
   "cell_type": "code",
   "execution_count": 43,
   "metadata": {},
   "outputs": [
    {
     "data": {
      "text/plain": [
       "array([0.9839, 0.9815, 0.9839, 0.9833, 0.982 ])"
      ]
     },
     "execution_count": 43,
     "metadata": {},
     "output_type": "execute_result"
    }
   ],
   "source": [
    "test_accuracies"
   ]
  },
  {
   "cell_type": "code",
   "execution_count": 44,
   "metadata": {},
   "outputs": [
    {
     "name": "stdout",
     "output_type": "stream",
     "text": [
      "0\n"
     ]
    }
   ],
   "source": [
    "best_net = np.argmax(test_accuracies)\n",
    "print(best_net)"
   ]
  },
  {
   "cell_type": "code",
   "execution_count": 45,
   "metadata": {},
   "outputs": [],
   "source": [
    "best_net_pred_labels = pred_labels[best_net, :, :]\n",
    "best_net_cls_pred = np.argmax(best_net_pred_labels, axis=1)\n",
    "best_net_correct = (best_net_cls_pred == data.test.cls)\n",
    "best_net_incorrect = np.logical_not(best_net_correct)"
   ]
  },
  {
   "cell_type": "code",
   "execution_count": 46,
   "metadata": {},
   "outputs": [
    {
     "data": {
      "text/plain": [
       "9879"
      ]
     },
     "execution_count": 46,
     "metadata": {},
     "output_type": "execute_result"
    }
   ],
   "source": [
    "np.sum(ensemble_correct)"
   ]
  },
  {
   "cell_type": "code",
   "execution_count": 47,
   "metadata": {},
   "outputs": [
    {
     "data": {
      "text/plain": [
       "9839"
      ]
     },
     "execution_count": 47,
     "metadata": {},
     "output_type": "execute_result"
    }
   ],
   "source": [
    "np.sum(best_net_correct)"
   ]
  },
  {
   "cell_type": "code",
   "execution_count": 48,
   "metadata": {},
   "outputs": [
    {
     "name": "stdout",
     "output_type": "stream",
     "text": [
      "66\n",
      "26\n"
     ]
    }
   ],
   "source": [
    "ensemble_better = np.logical_and(best_net_incorrect, ensemble_correct)\n",
    "print(sum(ensemble_better))\n",
    "best_net_better = np.logical_and(best_net_correct, ensemble_incorrect)\n",
    "print(sum(best_net_better))"
   ]
  },
  {
   "cell_type": "code",
   "execution_count": 49,
   "metadata": {},
   "outputs": [],
   "source": [
    "def get_correct_idx(correct):\n",
    "    return np.arange( correct.shape[0] )[correct]"
   ]
  },
  {
   "cell_type": "code",
   "execution_count": 50,
   "metadata": {},
   "outputs": [
    {
     "name": "stdout",
     "output_type": "stream",
     "text": [
      "[ 359  449  810  982 1044 1156 1182 1429 1466 1737 1913 1941 1982 2016\n",
      " 2125 2168 2280 2299 2369 2560 2648 2930 2970 2979 3030 3157 3534 3574\n",
      " 3702 3742 3838 3853 3869 3943 4163 4433 4443 4615 4838 4860 4886 4978\n",
      " 4990 5331 5888 5922 5997 6011 6023 6059 6091 6173 6532 6576 7220 7446\n",
      " 7800 7886 8246 8410 9036 9664 9679 9700 9726 9745]\n"
     ]
    }
   ],
   "source": [
    "ensemble_better_idx = get_correct_idx(ensemble_better)\n",
    "print(ensemble_better_idx)"
   ]
  },
  {
   "cell_type": "code",
   "execution_count": 51,
   "metadata": {},
   "outputs": [
    {
     "name": "stdout",
     "output_type": "stream",
     "text": [
      "[ 717  740 1260 1681 1717 1878 2107 2118 2293 2414 2454 3060 3475 3503\n",
      " 3597 3780 3985 4065 4306 4500 4823 5600 8408 9634 9768 9856]\n"
     ]
    }
   ],
   "source": [
    "best_net_better_idx = get_correct_idx(best_net_better)\n",
    "print(best_net_better_idx)"
   ]
  },
  {
   "cell_type": "code",
   "execution_count": 52,
   "metadata": {},
   "outputs": [],
   "source": [
    "def plot_images_comparison(idx):\n",
    "    plot_images(images=data.test.images[idx, :],\n",
    "                cls_true=data.test.cls[idx],\n",
    "                ensemble_cls_pred=ensemble_cls_pred[idx],\n",
    "                best_cls_pred=best_net_cls_pred[idx])"
   ]
  },
  {
   "cell_type": "code",
   "execution_count": 53,
   "metadata": {},
   "outputs": [
    {
     "data": {
      "image/png": "[encoded data removed]",
      "text/plain": [
       "<matplotlib.figure.Figure at 0x189403c8>"
      ]
     },
     "metadata": {},
     "output_type": "display_data"
    }
   ],
   "source": [
    "plot_images_comparison(ensemble_better_idx[:9])"
   ]
  },
  {
   "cell_type": "code",
   "execution_count": 54,
   "metadata": {},
   "outputs": [
    {
     "data": {
      "image/png": "[encoded data removed]",
      "text/plain": [
       "<matplotlib.figure.Figure at 0x13e05588>"
      ]
     },
     "metadata": {},
     "output_type": "display_data"
    }
   ],
   "source": [
    "plot_images_comparison(best_net_better_idx[:9])"
   ]
  },
  {
   "cell_type": "code",
   "execution_count": 55,
   "metadata": {},
   "outputs": [
    {
     "name": "stdout",
     "output_type": "stream",
     "text": [
      "[ 259  321  340  445  495  582  583  613  659  684  717  740  938  947\n",
      "  965 1014 1039 1112 1181 1226 1232 1247 1260 1299 1319 1326 1393 1527\n",
      " 1530 1621 1681 1709 1717 1754 1878 1901 1955 2098 2107 2109 2118 2130\n",
      " 2135 2182 2189 2272 2293 2387 2414 2454 2462 2488 2654 2896 2921 2927\n",
      " 2939 2953 2995 3060 3073 3422 3475 3503 3520 3558 3559 3597 3767 3780\n",
      " 3796 3808 3906 3985 4065 4075 4176 4224 4238 4248 4256 4306 4497 4500\n",
      " 4536 4571 4639 4740 4761 4807 4823 4880 4956 5600 5887 5955 5973 6166\n",
      " 6505 6597 6651 6783 7434 8094 8408 9009 9015 9019 9024 9587 9634 9642\n",
      " 9729 9768 9770 9779 9811 9839 9856 9904 9982]\n"
     ]
    }
   ],
   "source": [
    "ensemble_incorrect_idx = get_correct_idx(ensemble_incorrect)\n",
    "print(ensemble_incorrect_idx)"
   ]
  },
  {
   "cell_type": "code",
   "execution_count": 56,
   "metadata": {},
   "outputs": [
    {
     "data": {
      "image/png": "[encoded data removed]",
      "text/plain": [
       "<matplotlib.figure.Figure at 0x1a230b38>"
      ]
     },
     "metadata": {},
     "output_type": "display_data"
    },
    {
     "data": {
      "image/png": "[encoded data removed]",
      "text/plain": [
       "<matplotlib.figure.Figure at 0x18030d30>"
      ]
     },
     "metadata": {},
     "output_type": "display_data"
    },
    {
     "data": {
      "image/png": "[encoded data removed]",
      "text/plain": [
       "<matplotlib.figure.Figure at 0x13fdb358>"
      ]
     },
     "metadata": {},
     "output_type": "display_data"
    },
    {
     "data": {
      "image/png": "[encoded data removed]",
      "text/plain": [
       "<matplotlib.figure.Figure at 0x2564d668>"
      ]
     },
     "metadata": {},
     "output_type": "display_data"
    },
    {
     "data": {
      "image/png": "[encoded data removed]",
      "text/plain": [
       "<matplotlib.figure.Figure at 0x582ce828>"
      ]
     },
     "metadata": {},
     "output_type": "display_data"
    }
   ],
   "source": [
    "for i in range(0,5):\n",
    "    plot_images_comparison(ensemble_incorrect_idx[i*9 : i*9 + 9])"
   ]
  },
  {
   "cell_type": "code",
   "execution_count": null,
   "metadata": {},
   "outputs": [],
   "source": []
  }
 ],
 "metadata": {
  "kernelspec": {
   "display_name": "Python 3",
   "language": "python",
   "name": "python3"
  },
  "language_info": {
   "codemirror_mode": {
    "name": "ipython",
    "version": 3
   },
   "file_extension": ".py",
   "mimetype": "text/x-python",
   "name": "python",
   "nbconvert_exporter": "python",
   "pygments_lexer": "ipython3",
   "version": "3.6.4"
  }
 },
 "nbformat": 4,
 "nbformat_minor": 2
}
